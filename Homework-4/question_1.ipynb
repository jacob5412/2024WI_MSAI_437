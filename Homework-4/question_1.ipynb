{
 "cells": [
  {
   "cell_type": "markdown",
   "id": "4499da92-f5c2-425f-b785-64d66f1226e4",
   "metadata": {},
   "source": [
    "# Question 1: RNN"
   ]
  },
  {
   "cell_type": "code",
   "execution_count": null,
   "id": "0e06fbe4-b927-4e73-8132-524aa1c9e998",
   "metadata": {},
   "outputs": [],
   "source": [
    "import itertools\n",
    "import math\n",
    "import time\n",
    "\n",
    "import pandas as pd\n",
    "import torch\n",
    "\n",
    "from models.RNNModel import RNNModel\n",
    "from training_testing.training import train_model\n",
    "from utils.batchifier import batchify\n",
    "from utils.tokenizer import Vocabulary, process_corpus, read_corpus"
   ]
  },
  {
   "cell_type": "markdown",
   "id": "3b0ad835-c228-4e6f-ba50-7ed51c5aa3e1",
   "metadata": {},
   "source": [
    "## Read and Process Data"
   ]
  },
  {
   "cell_type": "code",
   "execution_count": null,
   "id": "86e763d1-8288-4b7b-b50d-11428c18f0cf",
   "metadata": {},
   "outputs": [],
   "source": [
    "batch_size = 32"
   ]
  },
  {
   "cell_type": "code",
   "execution_count": null,
   "id": "abe54b43-1de8-428b-9c76-8ea52ce2a80d",
   "metadata": {},
   "outputs": [],
   "source": [
    "train_file_path = \"data/wiki2.train.txt\"\n",
    "valid_file_path = \"data/wiki2.valid.txt\""
   ]
  },
  {
   "cell_type": "code",
   "execution_count": null,
   "id": "9d2f68a6-a5d3-4952-99fc-c0b5cd0c144c",
   "metadata": {},
   "outputs": [],
   "source": [
    "train_processed_tokens = process_corpus(train_file_path)\n",
    "train_vocab = Vocabulary()\n",
    "train_vocab.build_vocab(train_processed_tokens)\n",
    "train_numericalized_tokens = train_vocab.numericalize(train_processed_tokens)\n",
    "train_numericalized_tokens.size()"
   ]
  },
  {
   "cell_type": "code",
   "execution_count": null,
   "id": "c2aaea34-948b-41e8-8f39-04dcff6f4417",
   "metadata": {},
   "outputs": [],
   "source": [
    "train_batched_data = batchify(train_numericalized_tokens, batch_size)\n",
    "train_batched_data.shape"
   ]
  },
  {
   "cell_type": "code",
   "execution_count": null,
   "id": "7c5724e9-9892-44a0-9494-27b0aa034a1b",
   "metadata": {},
   "outputs": [],
   "source": [
    "valid_processed_tokens = read_corpus(valid_file_path)\n",
    "valid_numericalized_tokens = train_vocab.numericalize(valid_processed_tokens)\n",
    "valid_numericalized_tokens.size()"
   ]
  },
  {
   "cell_type": "code",
   "execution_count": null,
   "id": "0f1ec0c4-a584-4fa7-8a37-33ae325bfd63",
   "metadata": {
    "scrolled": true
   },
   "outputs": [],
   "source": [
    "valid_batched_data = batchify(valid_numericalized_tokens, batch_size)\n",
    "valid_batched_data.shape"
   ]
  },
  {
   "cell_type": "markdown",
   "id": "73d41c52-bfaa-412c-af3a-20f0894cbb9d",
   "metadata": {},
   "source": [
    "## Training"
   ]
  },
  {
   "cell_type": "code",
   "execution_count": null,
   "id": "32bc8875-5853-4d23-afa4-5e7626983104",
   "metadata": {},
   "outputs": [],
   "source": [
    "bptt_values = [30, 20, 10]\n",
    "clip_threshold_values = [0.25]\n",
    "log_interval = 1000\n",
    "lr_values = [0.01]\n",
    "epochs = 22\n",
    "dropout_values = [0.3, 0.5]\n",
    "ntokens = train_vocab.size\n",
    "\n",
    "criterion = torch.nn.CrossEntropyLoss()"
   ]
  },
  {
   "cell_type": "code",
   "execution_count": null,
   "id": "6a3409c6-fba3-4f87-aaaf-f90e0d0b4514",
   "metadata": {},
   "outputs": [],
   "source": [
    "hyperparam_combinations = list(\n",
    "    itertools.product(bptt_values, clip_threshold_values, lr_values, dropout_values)\n",
    ")"
   ]
  },
  {
   "cell_type": "code",
   "execution_count": null,
   "id": "203a7144-3076-4dc3-a70d-3cea7d98318f",
   "metadata": {
    "scrolled": true
   },
   "outputs": [],
   "source": [
    "results = []\n",
    "\n",
    "for combination in hyperparam_combinations:\n",
    "    bptt, clip_threshold, lr, dropout = combination\n",
    "\n",
    "    model = RNNModel(ntokens=ntokens, ninp=100, nhid=100, dropout=dropout)\n",
    "    optimizer = torch.optim.Adam(model.parameters(), lr=lr)\n",
    "\n",
    "    train_loss, val_loss, train_ppl, val_ppl = train_model(\n",
    "        model=model,\n",
    "        train_batched_data=train_batched_data,\n",
    "        valid_batched_data=valid_batched_data,\n",
    "        epochs=epochs,\n",
    "        batch_size=batch_size,\n",
    "        bptt=bptt,\n",
    "        criterion=criterion,\n",
    "        optimizer=optimizer,\n",
    "        clip_threshold=clip_threshold,\n",
    "        log_interval=log_interval,\n",
    "        lr=lr,\n",
    "        dropout=dropout,\n",
    "    )\n",
    "\n",
    "    results.append(\n",
    "        {\n",
    "            \"bptt\": bptt,\n",
    "            \"clip_threshold\": clip_threshold,\n",
    "            \"lr\": lr,\n",
    "            \"dropout\": dropout,\n",
    "            \"epochs\": epochs,\n",
    "            \"train_loss\": train_loss,\n",
    "            \"val_loss\": val_loss,\n",
    "            \"train_ppl\": train_ppl,\n",
    "            \"val_ppl\": val_ppl,\n",
    "        }\n",
    "    )"
   ]
  },
  {
   "cell_type": "code",
   "execution_count": null,
   "id": "a5be41f7-ced9-4fb6-9755-2365c6c389b1",
   "metadata": {},
   "outputs": [],
   "source": [
    "df_results = pd.DataFrame(results)"
   ]
  },
  {
   "cell_type": "code",
   "execution_count": null,
   "id": "d3ece082-a7a8-427a-8660-9ac1578d8174",
   "metadata": {},
   "outputs": [],
   "source": [
    "df_results.to_csv(\"results/rnn_hyperparam_results.csv\", index=False)"
   ]
  },
  {
   "cell_type": "markdown",
   "id": "73a90bdd-6b8b-4766-be2b-e45c90566cdb",
   "metadata": {},
   "source": [
    "## Training best model"
   ]
  },
  {
   "cell_type": "code",
   "execution_count": null,
   "id": "1ba79e1a-86f0-4c9d-a28a-a74cd9332222",
   "metadata": {
    "scrolled": true
   },
   "outputs": [],
   "source": [
    "df_results = pd.read_csv(\"results/rnn_hyperparam_results.csv\")"
   ]
  },
  {
   "cell_type": "code",
   "execution_count": null,
   "id": "9e6d7017-d6ce-4a33-a127-d78d4db85c08",
   "metadata": {},
   "outputs": [],
   "source": [
    "df_results"
   ]
  },
  {
   "cell_type": "code",
   "execution_count": null,
   "id": "1cf93fa1-8ffd-4e86-80b6-312028557311",
   "metadata": {},
   "outputs": [],
   "source": [
    "bptt = 30\n",
    "clip_threshold = 0.25\n",
    "log_interval = 1000\n",
    "lr = 0.01\n",
    "epochs = 20\n",
    "dropout = 0.3\n",
    "ntokens = train_vocab.size"
   ]
  },
  {
   "cell_type": "code",
   "execution_count": null,
   "id": "71e60565-27e7-4521-8bd6-035bcd63195b",
   "metadata": {},
   "outputs": [],
   "source": [
    "model = RNNModel(ntokens=ntokens, ninp=100, nhid=100, dropout=dropout)\n",
    "optimizer = torch.optim.Adam(model.parameters(), lr=lr)\n",
    "criterion = torch.nn.CrossEntropyLoss()"
   ]
  },
  {
   "cell_type": "code",
   "execution_count": null,
   "id": "92e56cfc-2eaf-4e01-8169-97a336bf5256",
   "metadata": {},
   "outputs": [],
   "source": [
    "train_losses = []\n",
    "valid_losses = []\n",
    "train_perplexities = []\n",
    "valid_perplexities = []"
   ]
  },
  {
   "cell_type": "code",
   "execution_count": null,
   "id": "2040b288-8936-4107-b586-fbf8ee24126d",
   "metadata": {
    "scrolled": true
   },
   "outputs": [],
   "source": [
    "_, _, _, _ = train_model(\n",
    "    model=model,\n",
    "    train_batched_data=train_batched_data,\n",
    "    valid_batched_data=valid_batched_data,\n",
    "    epochs=epochs,\n",
    "    batch_size=batch_size,\n",
    "    bptt=bptt,\n",
    "    criterion=criterion,\n",
    "    optimizer=optimizer,\n",
    "    clip_threshold=clip_threshold,\n",
    "    log_interval=log_interval,\n",
    "    lr=lr,\n",
    "    dropout=dropout,\n",
    "    architecture=\"LSTM\",\n",
    ")"
   ]
  },
  {
   "cell_type": "code",
   "execution_count": null,
   "id": "01bb4623-2124-45a3-bd26-d684085b6008",
   "metadata": {},
   "outputs": [],
   "source": [
    "torch.save(model.state_dict(), \"models/saved_weights/rnn_model_weights.pth\")"
   ]
  },
  {
   "cell_type": "markdown",
   "id": "b690fe8e-b02d-4885-9b43-59908d34fd61",
   "metadata": {},
   "source": [
    "## Testing Best Model"
   ]
  },
  {
   "cell_type": "code",
   "execution_count": null,
   "id": "186ade64-01c2-4480-98a8-741b50dd3048",
   "metadata": {},
   "outputs": [],
   "source": [
    "from utils.batchifier import get_batch\n",
    "from utils.modeler import repackage_hidden"
   ]
  },
  {
   "cell_type": "code",
   "execution_count": null,
   "id": "f79187b9-6770-4e7a-87d1-572233fdf0fa",
   "metadata": {},
   "outputs": [],
   "source": [
    "ntokens = train_vocab.size\n",
    "dropout = 0.3\n",
    "bptt = 20\n",
    "criterion = torch.nn.CrossEntropyLoss()"
   ]
  },
  {
   "cell_type": "code",
   "execution_count": null,
   "id": "051cf246-fb56-447e-83a2-c6d4067f7120",
   "metadata": {},
   "outputs": [],
   "source": [
    "model = RNNModel(ntokens=ntokens, ninp=100, nhid=100, dropout=dropout)\n",
    "model.load_state_dict(torch.load(\"models/saved_weights/rnn_model_weights.pth\"))"
   ]
  },
  {
   "cell_type": "code",
   "execution_count": null,
   "id": "c2388893-4e3e-4c04-99e0-4f86ef24e7dd",
   "metadata": {},
   "outputs": [],
   "source": [
    "test_file_path = \"data/wiki2.test.txt\""
   ]
  },
  {
   "cell_type": "code",
   "execution_count": null,
   "id": "b42df567-a9a5-4ce9-b6d9-2d85da5bee5f",
   "metadata": {},
   "outputs": [],
   "source": [
    "test_processed_tokens = read_corpus(test_file_path)\n",
    "test_numericalized_tokens = train_vocab.numericalize(test_processed_tokens)\n",
    "test_numericalized_tokens.size()"
   ]
  },
  {
   "cell_type": "code",
   "execution_count": null,
   "id": "1eae9e7f-d1ba-4568-a117-55fa6b8d3d77",
   "metadata": {
    "scrolled": true
   },
   "outputs": [],
   "source": [
    "test_batched_data = batchify(test_numericalized_tokens, batch_size)\n",
    "test_batched_data.shape"
   ]
  },
  {
   "cell_type": "code",
   "execution_count": null,
   "id": "bbdf7491-046c-43a5-96a0-d4a8b4ab2e27",
   "metadata": {},
   "outputs": [],
   "source": [
    "test_loss = 0.0\n",
    "with torch.no_grad():\n",
    "    model.eval()\n",
    "    hidden = model.init_hidden(batch_size)\n",
    "\n",
    "    for i in range(0, test_batched_data.size(0) - 1, bptt):\n",
    "        test_data, test_targets = get_batch(test_batched_data, i, bptt)\n",
    "        test_output, hidden = model(test_data, hidden)\n",
    "        hidden = repackage_hidden(hidden)\n",
    "        loss = criterion(test_output.view(-1, ntokens), test_targets)\n",
    "        test_loss += loss.item()\n",
    "\n",
    "avg_test_loss = test_loss / (test_batched_data.size(0) // bptt)\n",
    "avg_test_ppl = math.exp(avg_test_loss)\n",
    "\n",
    "print(f\"Test Loss: {avg_test_loss:.4f} | Test PPL: {avg_test_ppl:.2f}\")"
   ]
  },
  {
   "cell_type": "code",
   "execution_count": null,
   "id": "e476fda2-dac3-43f2-a8a6-a63f056ebf32",
   "metadata": {},
   "outputs": [],
   "source": []
  }
 ],
 "metadata": {
  "kernelspec": {
   "display_name": "Python 3 (ipykernel)",
   "language": "python",
   "name": "python3"
  },
  "language_info": {
   "codemirror_mode": {
    "name": "ipython",
    "version": 3
   },
   "file_extension": ".py",
   "mimetype": "text/x-python",
   "name": "python",
   "nbconvert_exporter": "python",
   "pygments_lexer": "ipython3",
   "version": "3.12.1"
  }
 },
 "nbformat": 4,
 "nbformat_minor": 5
}
