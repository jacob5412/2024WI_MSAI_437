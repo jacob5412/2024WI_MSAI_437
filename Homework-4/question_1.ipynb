{
 "cells": [
  {
   "cell_type": "markdown",
   "id": "4499da92-f5c2-425f-b785-64d66f1226e4",
   "metadata": {},
   "source": [
    "# Question 1: RNN"
   ]
  },
  {
   "cell_type": "code",
   "execution_count": 1,
   "id": "0e06fbe4-b927-4e73-8132-524aa1c9e998",
   "metadata": {},
   "outputs": [],
   "source": [
    "import itertools\n",
    "import math\n",
    "import time\n",
    "\n",
    "import torch\n",
    "\n",
    "from models.RNNModel import RNNModel\n",
    "from training_testing.training import train_model\n",
    "from utils.batchifier import batchify\n",
    "from utils.tokenizer import Vocabulary, process_corpus, read_corpus"
   ]
  },
  {
   "cell_type": "markdown",
   "id": "3b0ad835-c228-4e6f-ba50-7ed51c5aa3e1",
   "metadata": {},
   "source": [
    "## Read and Process Data"
   ]
  },
  {
   "cell_type": "code",
   "execution_count": 2,
   "id": "86e763d1-8288-4b7b-b50d-11428c18f0cf",
   "metadata": {},
   "outputs": [],
   "source": [
    "batch_size = 32"
   ]
  },
  {
   "cell_type": "code",
   "execution_count": 3,
   "id": "abe54b43-1de8-428b-9c76-8ea52ce2a80d",
   "metadata": {},
   "outputs": [],
   "source": [
    "train_file_path = \"data/wiki2.train.txt\"\n",
    "valid_file_path = \"data/wiki2.valid.txt\""
   ]
  },
  {
   "cell_type": "code",
   "execution_count": 4,
   "id": "9d2f68a6-a5d3-4952-99fc-c0b5cd0c144c",
   "metadata": {},
   "outputs": [
    {
     "data": {
      "text/plain": [
       "torch.Size([2088629])"
      ]
     },
     "execution_count": 4,
     "metadata": {},
     "output_type": "execute_result"
    }
   ],
   "source": [
    "train_processed_tokens = process_corpus(train_file_path)\n",
    "train_vocab = Vocabulary()\n",
    "train_vocab.build_vocab(train_processed_tokens)\n",
    "train_numericalized_tokens = train_vocab.numericalize(train_processed_tokens)\n",
    "train_numericalized_tokens.size()"
   ]
  },
  {
   "cell_type": "code",
   "execution_count": 5,
   "id": "c2aaea34-948b-41e8-8f39-04dcff6f4417",
   "metadata": {},
   "outputs": [
    {
     "data": {
      "text/plain": [
       "torch.Size([65269, 32])"
      ]
     },
     "execution_count": 5,
     "metadata": {},
     "output_type": "execute_result"
    }
   ],
   "source": [
    "train_batched_data = batchify(train_numericalized_tokens, batch_size)\n",
    "train_batched_data.shape"
   ]
  },
  {
   "cell_type": "code",
   "execution_count": 6,
   "id": "7c5724e9-9892-44a0-9494-27b0aa034a1b",
   "metadata": {},
   "outputs": [
    {
     "data": {
      "text/plain": [
       "torch.Size([217647])"
      ]
     },
     "execution_count": 6,
     "metadata": {},
     "output_type": "execute_result"
    }
   ],
   "source": [
    "valid_processed_tokens = read_corpus(valid_file_path)\n",
    "valid_numericalized_tokens = train_vocab.numericalize(valid_processed_tokens)\n",
    "valid_numericalized_tokens.size()"
   ]
  },
  {
   "cell_type": "code",
   "execution_count": 7,
   "id": "0f1ec0c4-a584-4fa7-8a37-33ae325bfd63",
   "metadata": {
    "scrolled": true
   },
   "outputs": [
    {
     "data": {
      "text/plain": [
       "torch.Size([6801, 32])"
      ]
     },
     "execution_count": 7,
     "metadata": {},
     "output_type": "execute_result"
    }
   ],
   "source": [
    "valid_batched_data = batchify(valid_numericalized_tokens, batch_size)\n",
    "valid_batched_data.shape"
   ]
  },
  {
   "cell_type": "markdown",
   "id": "73d41c52-bfaa-412c-af3a-20f0894cbb9d",
   "metadata": {},
   "source": [
    "## Training"
   ]
  },
  {
   "cell_type": "code",
   "execution_count": 8,
   "id": "32bc8875-5853-4d23-afa4-5e7626983104",
   "metadata": {},
   "outputs": [],
   "source": [
    "bptt_values = [30, 20, 10]\n",
    "clip_threshold_values = [0.25]\n",
    "log_interval = 1000\n",
    "lr_values = [0.01]\n",
    "epochs = 22\n",
    "dropout_values = [0.3, 0.5]\n",
    "ntokens = train_vocab.size\n",
    "\n",
    "criterion = torch.nn.CrossEntropyLoss()"
   ]
  },
  {
   "cell_type": "code",
   "execution_count": 9,
   "id": "6a3409c6-fba3-4f87-aaaf-f90e0d0b4514",
   "metadata": {},
   "outputs": [],
   "source": [
    "hyperparam_combinations = list(\n",
    "    itertools.product(bptt_values, clip_threshold_values, lr_values, dropout_values)\n",
    ")"
   ]
  },
  {
   "cell_type": "code",
   "execution_count": null,
   "id": "203a7144-3076-4dc3-a70d-3cea7d98318f",
   "metadata": {
    "scrolled": true
   },
   "outputs": [
    {
     "name": "stdout",
     "output_type": "stream",
     "text": [
      "epoch   1:  1000/ 2175 batches | lr 0.01 | dropout 0.30 | ms/batch 42.41 | train loss  5.64 | train ppl   282.18 | valid loss  5.34 | valid ppl   209.40\n",
      "epoch   1:  2000/ 2175 batches | lr 0.01 | dropout 0.30 | ms/batch 41.30 | train loss  5.06 | train ppl   156.93 | valid loss  5.16 | valid ppl   174.86\n",
      "epoch   2:  1000/ 2175 batches | lr 0.01 | dropout 0.30 | ms/batch 40.13 | train loss  4.90 | train ppl   134.46 | valid loss  5.12 | valid ppl   166.99\n",
      "epoch   2:  2000/ 2175 batches | lr 0.01 | dropout 0.30 | ms/batch 39.87 | train loss  4.87 | train ppl   130.57 | valid loss  5.10 | valid ppl   163.58\n",
      "epoch   3:  1000/ 2175 batches | lr 0.01 | dropout 0.30 | ms/batch 42.32 | train loss  4.82 | train ppl   123.39 | valid loss  5.14 | valid ppl   171.43\n",
      "epoch   3:  2000/ 2175 batches | lr 0.01 | dropout 0.30 | ms/batch 43.09 | train loss  4.82 | train ppl   124.34 | valid loss  5.10 | valid ppl   163.87\n"
     ]
    }
   ],
   "source": [
    "results = []\n",
    "\n",
    "for combination in hyperparam_combinations:\n",
    "    bptt, clip_threshold, lr, dropout = combination\n",
    "\n",
    "    model = RNNModel(\n",
    "        ntokens=ntokens, ninp=100, nhid=100, dropout=dropout\n",
    "    )\n",
    "    optimizer = torch.optim.Adam(model.parameters(), lr=lr)\n",
    "\n",
    "    train_loss, val_loss, train_ppl, val_ppl = train_model(\n",
    "        model=model,\n",
    "        train_batched_data=train_batched_data,\n",
    "        valid_batched_data=valid_batched_data,\n",
    "        epochs=epochs,\n",
    "        batch_size=batch_size,\n",
    "        bptt=bptt,\n",
    "        criterion=criterion,\n",
    "        optimizer=optimizer,\n",
    "        clip_threshold=clip_threshold,\n",
    "        log_interval=log_interval,\n",
    "        lr=lr,\n",
    "        dropout=dropout,\n",
    "    )\n",
    "\n",
    "    results.append(\n",
    "        {\n",
    "            \"bptt\": bptt,\n",
    "            \"clip_threshold\": clip_threshold,\n",
    "            \"lr\": lr,\n",
    "            \"dropout\": dropout,\n",
    "            \"epochs\": epochs,\n",
    "            \"train_loss\": train_loss,\n",
    "            \"val_loss\": val_loss,\n",
    "            \"train_ppl\": train_ppl,\n",
    "            \"val_ppl\": val_ppl,\n",
    "        }\n",
    "    )"
   ]
  },
  {
   "cell_type": "code",
   "execution_count": null,
   "id": "a5be41f7-ced9-4fb6-9755-2365c6c389b1",
   "metadata": {},
   "outputs": [],
   "source": [
    "df_results = pd.DataFrame(results)"
   ]
  },
  {
   "cell_type": "markdown",
   "id": "5e6d71f3-cc8b-4098-a62b-93d085a510b7",
   "metadata": {},
   "source": [
    "## Testing our best model"
   ]
  },
  {
   "cell_type": "code",
   "execution_count": null,
   "id": "d28f4c9d-aac4-410b-96e5-9e6cdc4b14df",
   "metadata": {},
   "outputs": [],
   "source": []
  }
 ],
 "metadata": {
  "kernelspec": {
   "display_name": "Python 3 (ipykernel)",
   "language": "python",
   "name": "python3"
  },
  "language_info": {
   "codemirror_mode": {
    "name": "ipython",
    "version": 3
   },
   "file_extension": ".py",
   "mimetype": "text/x-python",
   "name": "python",
   "nbconvert_exporter": "python",
   "pygments_lexer": "ipython3",
   "version": "3.12.1"
  }
 },
 "nbformat": 4,
 "nbformat_minor": 5
}
