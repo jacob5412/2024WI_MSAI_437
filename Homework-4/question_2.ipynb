{
 "cells": [
  {
   "cell_type": "markdown",
   "id": "4499da92-f5c2-425f-b785-64d66f1226e4",
   "metadata": {},
   "source": [
    "# Question 2: LSTM"
   ]
  },
  {
   "cell_type": "code",
   "execution_count": null,
   "id": "0e06fbe4-b927-4e73-8132-524aa1c9e998",
   "metadata": {},
   "outputs": [],
   "source": [
    "import itertools\n",
    "import math\n",
    "import time\n",
    "\n",
    "import pandas as pd\n",
    "import torch\n",
    "\n",
    "from models.LSTMModel import LSTMModel\n",
    "from training_testing.training import train_model\n",
    "from utils.batchifier import batchify\n",
    "from utils.tokenizer import Vocabulary, process_corpus, read_corpus"
   ]
  },
  {
   "cell_type": "markdown",
   "id": "3b0ad835-c228-4e6f-ba50-7ed51c5aa3e1",
   "metadata": {},
   "source": [
    "## Read and Process Data"
   ]
  },
  {
   "cell_type": "code",
   "execution_count": null,
   "id": "06915fea-2a34-4fd0-bf5e-5078c4cc6cba",
   "metadata": {},
   "outputs": [],
   "source": [
    "batch_size = 32"
   ]
  },
  {
   "cell_type": "code",
   "execution_count": null,
   "id": "7ce59fee-81df-4806-aaa1-18fc61a7abb2",
   "metadata": {},
   "outputs": [],
   "source": [
    "train_file_path = \"data/wiki2.train.txt\"\n",
    "valid_file_path = \"data/wiki2.valid.txt\""
   ]
  },
  {
   "cell_type": "code",
   "execution_count": null,
   "id": "06825d22-d9d7-43c2-8443-5f860ba44acd",
   "metadata": {},
   "outputs": [],
   "source": [
    "train_processed_tokens = process_corpus(train_file_path)\n",
    "train_vocab = Vocabulary()\n",
    "train_vocab.build_vocab(train_processed_tokens)\n",
    "train_numericalized_tokens = train_vocab.numericalize(train_processed_tokens)\n",
    "train_numericalized_tokens.size()"
   ]
  },
  {
   "cell_type": "code",
   "execution_count": null,
   "id": "b52b5f2c-52c8-45fc-baa0-b81077ceb23b",
   "metadata": {},
   "outputs": [],
   "source": [
    "train_batched_data = batchify(train_numericalized_tokens, batch_size)\n",
    "train_batched_data.shape"
   ]
  },
  {
   "cell_type": "code",
   "execution_count": null,
   "id": "0677eaaa-9319-4af5-8d2d-717f12f21ed5",
   "metadata": {},
   "outputs": [],
   "source": [
    "valid_processed_tokens = read_corpus(valid_file_path)\n",
    "valid_numericalized_tokens = train_vocab.numericalize(valid_processed_tokens)\n",
    "valid_numericalized_tokens.size()"
   ]
  },
  {
   "cell_type": "code",
   "execution_count": null,
   "id": "4fcf30be-89c7-4adf-a867-ace5bb43816f",
   "metadata": {
    "scrolled": true
   },
   "outputs": [],
   "source": [
    "valid_batched_data = batchify(valid_numericalized_tokens, batch_size)\n",
    "valid_batched_data.shape"
   ]
  },
  {
   "cell_type": "markdown",
   "id": "73d41c52-bfaa-412c-af3a-20f0894cbb9d",
   "metadata": {},
   "source": [
    "## Training\n",
    "\n",
    "Skip this part during inference."
   ]
  },
  {
   "cell_type": "code",
   "execution_count": null,
   "id": "32bc8875-5853-4d23-afa4-5e7626983104",
   "metadata": {},
   "outputs": [],
   "source": [
    "bptt_values = [30, 40]\n",
    "clip_threshold_values = [0.25]\n",
    "log_interval = 1000\n",
    "lr_values = [0.01]\n",
    "epochs = 10\n",
    "dropout_values = [0.3, 0.5]\n",
    "ntokens = train_vocab.size\n",
    "\n",
    "criterion = torch.nn.CrossEntropyLoss()"
   ]
  },
  {
   "cell_type": "code",
   "execution_count": null,
   "id": "6a3409c6-fba3-4f87-aaaf-f90e0d0b4514",
   "metadata": {},
   "outputs": [],
   "source": [
    "hyperparam_combinations = list(\n",
    "    itertools.product(bptt_values, clip_threshold_values, lr_values, dropout_values)\n",
    ")"
   ]
  },
  {
   "cell_type": "code",
   "execution_count": null,
   "id": "203a7144-3076-4dc3-a70d-3cea7d98318f",
   "metadata": {
    "scrolled": true
   },
   "outputs": [],
   "source": [
    "results = []\n",
    "\n",
    "for combination in hyperparam_combinations:\n",
    "    bptt, clip_threshold, lr, dropout = combination\n",
    "\n",
    "    model = LSTMModel(ntokens=ntokens, ninp=100, nhid=100, dropout=dropout)\n",
    "    optimizer = torch.optim.Adam(model.parameters(), lr=lr)\n",
    "\n",
    "    train_loss, val_loss, train_ppl, val_ppl = train_model(\n",
    "        model=model,\n",
    "        train_batched_data=train_batched_data,\n",
    "        valid_batched_data=valid_batched_data,\n",
    "        epochs=epochs,\n",
    "        batch_size=batch_size,\n",
    "        bptt=bptt,\n",
    "        criterion=criterion,\n",
    "        optimizer=optimizer,\n",
    "        clip_threshold=clip_threshold,\n",
    "        log_interval=log_interval,\n",
    "        lr=lr,\n",
    "        dropout=dropout,\n",
    "        architecture=\"LSTM\",\n",
    "    )\n",
    "\n",
    "    results.append(\n",
    "        {\n",
    "            \"bptt\": bptt,\n",
    "            \"clip_threshold\": clip_threshold,\n",
    "            \"lr\": lr,\n",
    "            \"dropout\": dropout,\n",
    "            \"epochs\": epochs,\n",
    "            \"train_loss\": train_loss,\n",
    "            \"val_loss\": val_loss,\n",
    "            \"train_ppl\": train_ppl,\n",
    "            \"val_ppl\": val_ppl,\n",
    "        }\n",
    "    )"
   ]
  },
  {
   "cell_type": "code",
   "execution_count": null,
   "id": "3074c448-7ac1-4dd0-a80f-6e6a6ef4de6f",
   "metadata": {},
   "outputs": [],
   "source": [
    "df_results = pd.DataFrame(results)"
   ]
  },
  {
   "cell_type": "markdown",
   "id": "a49dbe56-9873-49f2-800a-b2f3e27ca304",
   "metadata": {},
   "source": [
    "## Training best model\n",
    "\n",
    "Skip this part during inference."
   ]
  },
  {
   "cell_type": "code",
   "execution_count": null,
   "id": "d68e6ca0-0f15-44f8-a126-0a96e1270912",
   "metadata": {},
   "outputs": [],
   "source": [
    "bptt = 40\n",
    "clip_threshold = 0.25\n",
    "log_interval = 1000\n",
    "lr = 0.01\n",
    "epochs = 4\n",
    "dropout = 0.3\n",
    "ntokens = train_vocab.size"
   ]
  },
  {
   "cell_type": "code",
   "execution_count": null,
   "id": "d680dbe5-065f-42b1-b77e-a2f05d27e55e",
   "metadata": {},
   "outputs": [],
   "source": [
    "model = LSTMModel(ntokens=ntokens, ninp=100, nhid=100, dropout=dropout)\n",
    "optimizer = torch.optim.Adam(model.parameters(), lr=lr)\n",
    "criterion = torch.nn.CrossEntropyLoss()"
   ]
  },
  {
   "cell_type": "code",
   "execution_count": null,
   "id": "6ab2bfaf-3d7b-4a62-9fc8-bca8af577871",
   "metadata": {},
   "outputs": [],
   "source": [
    "train_losses = []\n",
    "valid_losses = []\n",
    "train_perplexities = []\n",
    "valid_perplexities = []"
   ]
  },
  {
   "cell_type": "code",
   "execution_count": null,
   "id": "6e69ed2f-4268-4a28-9dee-b68299be8cc8",
   "metadata": {},
   "outputs": [],
   "source": [
    "_, _, _, _ = train_model(\n",
    "    model=model,\n",
    "    train_batched_data=train_batched_data,\n",
    "    valid_batched_data=valid_batched_data,\n",
    "    epochs=epochs,\n",
    "    batch_size=batch_size,\n",
    "    bptt=bptt,\n",
    "    criterion=criterion,\n",
    "    optimizer=optimizer,\n",
    "    clip_threshold=clip_threshold,\n",
    "    log_interval=log_interval,\n",
    "    lr=lr,\n",
    "    dropout=dropout,\n",
    "    architecture=\"LSTM\",\n",
    ")"
   ]
  },
  {
   "cell_type": "code",
   "execution_count": null,
   "id": "3b16c642-1175-4575-ac15-6e38631497da",
   "metadata": {},
   "outputs": [],
   "source": [
    "torch.save(model.state_dict(), \"models/saved_weights/lstm_model_weights.pth\")"
   ]
  },
  {
   "cell_type": "markdown",
   "id": "061a64e8-338b-49a8-a1d6-669895c12506",
   "metadata": {},
   "source": [
    "## Testing Best Model"
   ]
  },
  {
   "cell_type": "code",
   "execution_count": null,
   "id": "186ade64-01c2-4480-98a8-741b50dd3048",
   "metadata": {},
   "outputs": [],
   "source": [
    "from utils.batchifier import get_batch\n",
    "from utils.modeler import repackage_hidden"
   ]
  },
  {
   "cell_type": "code",
   "execution_count": null,
   "id": "f79187b9-6770-4e7a-87d1-572233fdf0fa",
   "metadata": {},
   "outputs": [],
   "source": [
    "ntokens = train_vocab.size\n",
    "dropout = 0.3\n",
    "bptt = 40\n",
    "criterion = torch.nn.CrossEntropyLoss()"
   ]
  },
  {
   "cell_type": "code",
   "execution_count": null,
   "id": "051cf246-fb56-447e-83a2-c6d4067f7120",
   "metadata": {},
   "outputs": [],
   "source": [
    "model = LSTMModel(ntokens=ntokens, ninp=100, nhid=100, dropout=dropout)\n",
    "model.load_state_dict(torch.load(\"models/saved_weights/lstm_model_weights.pth\"))"
   ]
  },
  {
   "cell_type": "code",
   "execution_count": null,
   "id": "c2388893-4e3e-4c04-99e0-4f86ef24e7dd",
   "metadata": {},
   "outputs": [],
   "source": [
    "test_file_path = \"data/wiki2.test.txt\""
   ]
  },
  {
   "cell_type": "code",
   "execution_count": null,
   "id": "b42df567-a9a5-4ce9-b6d9-2d85da5bee5f",
   "metadata": {},
   "outputs": [],
   "source": [
    "test_processed_tokens = read_corpus(test_file_path)\n",
    "test_numericalized_tokens = train_vocab.numericalize(test_processed_tokens)\n",
    "test_numericalized_tokens.size()"
   ]
  },
  {
   "cell_type": "code",
   "execution_count": null,
   "id": "1eae9e7f-d1ba-4568-a117-55fa6b8d3d77",
   "metadata": {
    "scrolled": true
   },
   "outputs": [],
   "source": [
    "test_batched_data = batchify(test_numericalized_tokens, batch_size)\n",
    "test_batched_data.shape"
   ]
  },
  {
   "cell_type": "code",
   "execution_count": null,
   "id": "bbdf7491-046c-43a5-96a0-d4a8b4ab2e27",
   "metadata": {},
   "outputs": [],
   "source": [
    "test_loss = 0.0\n",
    "with torch.no_grad():\n",
    "    model.eval()\n",
    "    hidden = model.init_hidden(batch_size)\n",
    "\n",
    "    for i in range(0, test_batched_data.size(0) - 1, bptt):\n",
    "        test_data, test_targets = get_batch(test_batched_data, i, bptt)\n",
    "        test_output, hidden = model(test_data, hidden)\n",
    "        hidden = repackage_hidden(hidden)\n",
    "        loss = criterion(test_output.view(-1, ntokens), test_targets)\n",
    "        test_loss += loss.item()\n",
    "\n",
    "avg_test_loss = test_loss / (test_batched_data.size(0) // bptt)\n",
    "avg_test_ppl = math.exp(avg_test_loss)\n",
    "\n",
    "print(f\"Test Loss: {avg_test_loss:.4f} | Test PPL: {avg_test_ppl:.2f}\")"
   ]
  },
  {
   "cell_type": "code",
   "execution_count": null,
   "id": "83638527-30b0-4014-8d92-cc57dfb41f73",
   "metadata": {},
   "outputs": [],
   "source": []
  }
 ],
 "metadata": {
  "kernelspec": {
   "display_name": "Python 3 (ipykernel)",
   "language": "python",
   "name": "python3"
  },
  "language_info": {
   "codemirror_mode": {
    "name": "ipython",
    "version": 3
   },
   "file_extension": ".py",
   "mimetype": "text/x-python",
   "name": "python",
   "nbconvert_exporter": "python",
   "pygments_lexer": "ipython3",
   "version": "3.12.1"
  }
 },
 "nbformat": 4,
 "nbformat_minor": 5
}
