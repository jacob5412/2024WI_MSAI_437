{
 "cells": [
  {
   "cell_type": "markdown",
   "id": "4499da92-f5c2-425f-b785-64d66f1226e4",
   "metadata": {},
   "source": [
    "# Question 2: LSTM"
   ]
  },
  {
   "cell_type": "code",
   "execution_count": 1,
   "id": "0e06fbe4-b927-4e73-8132-524aa1c9e998",
   "metadata": {},
   "outputs": [],
   "source": [
    "import itertools\n",
    "import math\n",
    "import time\n",
    "\n",
    "import torch\n",
    "\n",
    "from models.LSTMModel import LSTMModel\n",
    "from training_testing.training import train_model\n",
    "from utils.batchifier import batchify\n",
    "from utils.tokenizer import Vocabulary, process_corpus, read_corpus"
   ]
  },
  {
   "cell_type": "markdown",
   "id": "3b0ad835-c228-4e6f-ba50-7ed51c5aa3e1",
   "metadata": {},
   "source": [
    "# Read and Process Data"
   ]
  },
  {
   "cell_type": "code",
   "execution_count": 2,
   "id": "06915fea-2a34-4fd0-bf5e-5078c4cc6cba",
   "metadata": {},
   "outputs": [],
   "source": [
    "batch_size = 32"
   ]
  },
  {
   "cell_type": "code",
   "execution_count": 3,
   "id": "7ce59fee-81df-4806-aaa1-18fc61a7abb2",
   "metadata": {},
   "outputs": [],
   "source": [
    "train_file_path = \"data/wiki2.train.txt\"\n",
    "valid_file_path = \"data/wiki2.valid.txt\""
   ]
  },
  {
   "cell_type": "code",
   "execution_count": 4,
   "id": "06825d22-d9d7-43c2-8443-5f860ba44acd",
   "metadata": {},
   "outputs": [
    {
     "data": {
      "text/plain": [
       "torch.Size([2088629])"
      ]
     },
     "execution_count": 4,
     "metadata": {},
     "output_type": "execute_result"
    }
   ],
   "source": [
    "train_processed_tokens = process_corpus(train_file_path)\n",
    "train_vocab = Vocabulary()\n",
    "train_vocab.build_vocab(train_processed_tokens)\n",
    "train_numericalized_tokens = train_vocab.numericalize(train_processed_tokens)\n",
    "train_numericalized_tokens.size()"
   ]
  },
  {
   "cell_type": "code",
   "execution_count": 5,
   "id": "b52b5f2c-52c8-45fc-baa0-b81077ceb23b",
   "metadata": {},
   "outputs": [
    {
     "data": {
      "text/plain": [
       "torch.Size([65269, 32])"
      ]
     },
     "execution_count": 5,
     "metadata": {},
     "output_type": "execute_result"
    }
   ],
   "source": [
    "train_batched_data = batchify(train_numericalized_tokens, batch_size)\n",
    "train_batched_data.shape"
   ]
  },
  {
   "cell_type": "code",
   "execution_count": 6,
   "id": "0677eaaa-9319-4af5-8d2d-717f12f21ed5",
   "metadata": {},
   "outputs": [
    {
     "data": {
      "text/plain": [
       "torch.Size([217647])"
      ]
     },
     "execution_count": 6,
     "metadata": {},
     "output_type": "execute_result"
    }
   ],
   "source": [
    "valid_processed_tokens = read_corpus(valid_file_path)\n",
    "valid_numericalized_tokens = train_vocab.numericalize(valid_processed_tokens)\n",
    "valid_numericalized_tokens.size()"
   ]
  },
  {
   "cell_type": "code",
   "execution_count": 7,
   "id": "4fcf30be-89c7-4adf-a867-ace5bb43816f",
   "metadata": {
    "scrolled": true
   },
   "outputs": [
    {
     "data": {
      "text/plain": [
       "torch.Size([6801, 32])"
      ]
     },
     "execution_count": 7,
     "metadata": {},
     "output_type": "execute_result"
    }
   ],
   "source": [
    "valid_batched_data = batchify(valid_numericalized_tokens, batch_size)\n",
    "valid_batched_data.shape"
   ]
  },
  {
   "cell_type": "markdown",
   "id": "73d41c52-bfaa-412c-af3a-20f0894cbb9d",
   "metadata": {},
   "source": [
    "## Training"
   ]
  },
  {
   "cell_type": "code",
   "execution_count": 8,
   "id": "32bc8875-5853-4d23-afa4-5e7626983104",
   "metadata": {},
   "outputs": [],
   "source": [
    "bptt_values = [30, 40]\n",
    "clip_threshold_values = [0.25]\n",
    "log_interval = 1000\n",
    "lr_values = [0.01]\n",
    "epochs = 10\n",
    "dropout_values = [0.3, 0.5]\n",
    "ntokens = train_vocab.size\n",
    "\n",
    "criterion = torch.nn.CrossEntropyLoss()"
   ]
  },
  {
   "cell_type": "code",
   "execution_count": 9,
   "id": "6a3409c6-fba3-4f87-aaaf-f90e0d0b4514",
   "metadata": {},
   "outputs": [],
   "source": [
    "hyperparam_combinations = list(\n",
    "    itertools.product(bptt_values, clip_threshold_values, lr_values, dropout_values)\n",
    ")"
   ]
  },
  {
   "cell_type": "code",
   "execution_count": null,
   "id": "203a7144-3076-4dc3-a70d-3cea7d98318f",
   "metadata": {
    "scrolled": true
   },
   "outputs": [
    {
     "name": "stdout",
     "output_type": "stream",
     "text": [
      "epoch   1:  1000/ 2175 batches | lr 0.01 | dropout 0.30 | ms/batch 58.52 | train loss  5.37 | train ppl   215.82 | valid loss  5.02 | valid ppl   151.47\n",
      "epoch   1:  2000/ 2175 batches | lr 0.01 | dropout 0.30 | ms/batch 56.74 | train loss  4.85 | train ppl   127.54 | valid loss  4.78 | valid ppl   119.23\n",
      "epoch   2:  1000/ 2175 batches | lr 0.01 | dropout 0.30 | ms/batch 57.47 | train loss  4.59 | train ppl    98.07 | valid loss  4.69 | valid ppl   108.71\n",
      "epoch   2:  2000/ 2175 batches | lr 0.01 | dropout 0.30 | ms/batch 57.31 | train loss  4.50 | train ppl    89.83 | valid loss  4.64 | valid ppl   103.98\n",
      "epoch   3:  1000/ 2175 batches | lr 0.01 | dropout 0.30 | ms/batch 56.50 | train loss  4.40 | train ppl    81.25 | valid loss  4.63 | valid ppl   102.76\n",
      "epoch   3:  2000/ 2175 batches | lr 0.01 | dropout 0.30 | ms/batch 56.67 | train loss  4.37 | train ppl    79.24 | valid loss  4.62 | valid ppl   101.26\n",
      "epoch   4:  1000/ 2175 batches | lr 0.01 | dropout 0.30 | ms/batch 56.80 | train loss  4.31 | train ppl    74.72 | valid loss  4.62 | valid ppl   101.18\n",
      "epoch   4:  2000/ 2175 batches | lr 0.01 | dropout 0.30 | ms/batch 57.12 | train loss  4.31 | train ppl    74.21 | valid loss  4.61 | valid ppl   100.35\n",
      "epoch   5:  1000/ 2175 batches | lr 0.01 | dropout 0.30 | ms/batch 58.54 | train loss  4.26 | train ppl    71.01 | valid loss  4.61 | valid ppl   100.27\n",
      "epoch   5:  2000/ 2175 batches | lr 0.01 | dropout 0.30 | ms/batch 58.91 | train loss  4.26 | train ppl    71.10 | valid loss  4.62 | valid ppl   101.37\n",
      "epoch   6:  1000/ 2175 batches | lr 0.01 | dropout 0.30 | ms/batch 59.57 | train loss  4.23 | train ppl    68.65 | valid loss  4.62 | valid ppl   101.95\n",
      "epoch   6:  2000/ 2175 batches | lr 0.01 | dropout 0.30 | ms/batch 58.47 | train loss  4.24 | train ppl    69.14 | valid loss  4.62 | valid ppl   101.77\n",
      "epoch   7:  1000/ 2175 batches | lr 0.01 | dropout 0.30 | ms/batch 58.50 | train loss  4.21 | train ppl    67.03 | valid loss  4.63 | valid ppl   102.19\n",
      "epoch   7:  2000/ 2175 batches | lr 0.01 | dropout 0.30 | ms/batch 58.74 | train loss  4.22 | train ppl    67.81 | valid loss  4.63 | valid ppl   102.33\n",
      "epoch   8:  1000/ 2175 batches | lr 0.01 | dropout 0.30 | ms/batch 57.80 | train loss  4.19 | train ppl    65.90 | valid loss  4.63 | valid ppl   102.84\n",
      "epoch   8:  2000/ 2175 batches | lr 0.01 | dropout 0.30 | ms/batch 58.39 | train loss  4.20 | train ppl    66.78 | valid loss  4.64 | valid ppl   103.71\n",
      "epoch   9:  1000/ 2175 batches | lr 0.01 | dropout 0.30 | ms/batch 58.32 | train loss  4.18 | train ppl    65.09 | valid loss  4.64 | valid ppl   103.89\n",
      "epoch   9:  2000/ 2175 batches | lr 0.01 | dropout 0.30 | ms/batch 58.47 | train loss  4.19 | train ppl    66.09 | valid loss  4.64 | valid ppl   103.75\n",
      "epoch  10:  1000/ 2175 batches | lr 0.01 | dropout 0.30 | ms/batch 58.96 | train loss  4.17 | train ppl    64.41 | valid loss  4.64 | valid ppl   104.01\n",
      "epoch  10:  2000/ 2175 batches | lr 0.01 | dropout 0.30 | ms/batch 58.59 | train loss  4.18 | train ppl    65.45 | valid loss  4.65 | valid ppl   104.66\n",
      "epoch   1:  1000/ 2175 batches | lr 0.01 | dropout 0.50 | ms/batch 59.63 | train loss  5.46 | train ppl   234.23 | valid loss  5.06 | valid ppl   157.79\n",
      "epoch   1:  2000/ 2175 batches | lr 0.01 | dropout 0.50 | ms/batch 58.73 | train loss  4.87 | train ppl   130.09 | valid loss  4.81 | valid ppl   123.03\n",
      "epoch   2:  1000/ 2175 batches | lr 0.01 | dropout 0.50 | ms/batch 61.58 | train loss  4.61 | train ppl   100.66 | valid loss  4.70 | valid ppl   109.62\n",
      "epoch   2:  2000/ 2175 batches | lr 0.01 | dropout 0.50 | ms/batch 61.44 | train loss  4.52 | train ppl    92.11 | valid loss  4.67 | valid ppl   106.44\n",
      "epoch   3:  1000/ 2175 batches | lr 0.01 | dropout 0.50 | ms/batch 61.93 | train loss  4.43 | train ppl    83.84 | valid loss  4.64 | valid ppl   103.39\n",
      "epoch   3:  2000/ 2175 batches | lr 0.01 | dropout 0.50 | ms/batch 63.07 | train loss  4.41 | train ppl    81.98 | valid loss  4.64 | valid ppl   103.95\n",
      "epoch   4:  1000/ 2175 batches | lr 0.01 | dropout 0.50 | ms/batch 62.27 | train loss  4.34 | train ppl    77.03 | valid loss  4.63 | valid ppl   102.67\n",
      "epoch   4:  2000/ 2175 batches | lr 0.01 | dropout 0.50 | ms/batch 59.92 | train loss  4.34 | train ppl    76.72 | valid loss  4.64 | valid ppl   103.70\n",
      "epoch   5:  1000/ 2175 batches | lr 0.01 | dropout 0.50 | ms/batch 56.94 | train loss  4.29 | train ppl    73.05 | valid loss  4.64 | valid ppl   103.72\n",
      "epoch   5:  2000/ 2175 batches | lr 0.01 | dropout 0.50 | ms/batch 56.63 | train loss  4.29 | train ppl    73.31 | valid loss  4.64 | valid ppl   103.80\n",
      "epoch   6:  1000/ 2175 batches | lr 0.01 | dropout 0.50 | ms/batch 60.69 | train loss  4.26 | train ppl    70.59 | valid loss  4.64 | valid ppl   103.96\n",
      "epoch   6:  2000/ 2175 batches | lr 0.01 | dropout 0.50 | ms/batch 59.97 | train loss  4.27 | train ppl    71.18 | valid loss  4.65 | valid ppl   104.39\n",
      "epoch   7:  1000/ 2175 batches | lr 0.01 | dropout 0.50 | ms/batch 90.41 | train loss  4.23 | train ppl    68.84 | valid loss  4.65 | valid ppl   104.25\n",
      "epoch   7:  2000/ 2175 batches | lr 0.01 | dropout 0.50 | ms/batch 52.72 | train loss  4.25 | train ppl    69.81 | valid loss  4.66 | valid ppl   105.33\n",
      "epoch   8:  1000/ 2175 batches | lr 0.01 | dropout 0.50 | ms/batch 53.82 | train loss  4.21 | train ppl    67.68 | valid loss  4.66 | valid ppl   105.62\n",
      "epoch   8:  2000/ 2175 batches | lr 0.01 | dropout 0.50 | ms/batch 55.27 | train loss  4.23 | train ppl    68.68 | valid loss  4.67 | valid ppl   106.24\n",
      "epoch   9:  1000/ 2175 batches | lr 0.01 | dropout 0.50 | ms/batch 49.60 | train loss  4.20 | train ppl    66.71 | valid loss  4.67 | valid ppl   106.71\n",
      "epoch   9:  2000/ 2175 batches | lr 0.01 | dropout 0.50 | ms/batch 41.22 | train loss  4.22 | train ppl    67.94 | valid loss  4.68 | valid ppl   107.56\n",
      "epoch  10:  1000/ 2175 batches | lr 0.01 | dropout 0.50 | ms/batch 41.45 | train loss  4.19 | train ppl    66.14 | valid loss  4.68 | valid ppl   107.56\n",
      "epoch  10:  2000/ 2175 batches | lr 0.01 | dropout 0.50 | ms/batch 33.44 | train loss  4.21 | train ppl    67.43 | valid loss  4.68 | valid ppl   107.53\n",
      "epoch   1:  1000/ 1631 batches | lr 0.01 | dropout 0.30 | ms/batch 57.95 | train loss  5.31 | train ppl   202.99 | valid loss  4.95 | valid ppl   141.24\n",
      "epoch   2:  1000/ 1631 batches | lr 0.01 | dropout 0.30 | ms/batch 73.02 | train loss  4.55 | train ppl    94.93 | valid loss  4.65 | valid ppl   104.10\n",
      "epoch   3:  1000/ 1631 batches | lr 0.01 | dropout 0.30 | ms/batch 76.80 | train loss  4.37 | train ppl    79.10 | valid loss  4.60 | valid ppl    99.49\n"
     ]
    }
   ],
   "source": [
    "results = []\n",
    "\n",
    "for combination in hyperparam_combinations:\n",
    "    bptt, clip_threshold, lr, dropout = combination\n",
    "\n",
    "    model = LSTMModel(ntokens=ntokens, ninp=100, nhid=100, dropout=dropout)\n",
    "    optimizer = torch.optim.Adam(model.parameters(), lr=lr)\n",
    "\n",
    "    train_loss, val_loss, train_ppl, val_ppl = train_model(\n",
    "        model=model,\n",
    "        train_batched_data=train_batched_data,\n",
    "        valid_batched_data=valid_batched_data,\n",
    "        epochs=epochs,\n",
    "        batch_size=batch_size,\n",
    "        bptt=bptt,\n",
    "        criterion=criterion,\n",
    "        optimizer=optimizer,\n",
    "        clip_threshold=clip_threshold,\n",
    "        log_interval=log_interval,\n",
    "        lr=lr,\n",
    "        dropout=dropout,\n",
    "        architecture=\"LSTM\",\n",
    "    )\n",
    "\n",
    "    results.append(\n",
    "        {\n",
    "            \"bptt\": bptt,\n",
    "            \"clip_threshold\": clip_threshold,\n",
    "            \"lr\": lr,\n",
    "            \"dropout\": dropout,\n",
    "            \"epochs\": epochs,\n",
    "            \"train_loss\": train_loss,\n",
    "            \"val_loss\": val_loss,\n",
    "            \"train_ppl\": train_ppl,\n",
    "            \"val_ppl\": val_ppl,\n",
    "        }\n",
    "    )"
   ]
  },
  {
   "cell_type": "code",
   "execution_count": null,
   "id": "3074c448-7ac1-4dd0-a80f-6e6a6ef4de6f",
   "metadata": {},
   "outputs": [],
   "source": [
    "df_results = pd.DataFrame(results)"
   ]
  },
  {
   "cell_type": "markdown",
   "id": "a49dbe56-9873-49f2-800a-b2f3e27ca304",
   "metadata": {},
   "source": [
    "## Testing best model"
   ]
  },
  {
   "cell_type": "code",
   "execution_count": null,
   "id": "1a3cb5d2-a263-4c41-b6ab-a1e3e62d3230",
   "metadata": {},
   "outputs": [],
   "source": []
  }
 ],
 "metadata": {
  "kernelspec": {
   "display_name": "Python 3 (ipykernel)",
   "language": "python",
   "name": "python3"
  },
  "language_info": {
   "codemirror_mode": {
    "name": "ipython",
    "version": 3
   },
   "file_extension": ".py",
   "mimetype": "text/x-python",
   "name": "python",
   "nbconvert_exporter": "python",
   "pygments_lexer": "ipython3",
   "version": "3.12.1"
  }
 },
 "nbformat": 4,
 "nbformat_minor": 5
}
