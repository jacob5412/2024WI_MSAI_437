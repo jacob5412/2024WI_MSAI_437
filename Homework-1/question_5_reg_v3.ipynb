{
 "cells": [
  {
   "cell_type": "markdown",
   "id": "c612f0bd-1bf0-4dd5-b282-d029ae3cc3aa",
   "metadata": {},
   "source": [
    "# Q5: MLP with L2 Regularization"
   ]
  },
  {
   "cell_type": "code",
   "execution_count": null,
   "id": "ada95de4-5f78-4548-9728-2a5e6e364cc2",
   "metadata": {},
   "outputs": [],
   "source": [
    "import random\n",
    "import warnings\n",
    "\n",
    "warnings.filterwarnings(\"ignore\")\n",
    "random.seed(1234)"
   ]
  },
  {
   "cell_type": "code",
   "execution_count": null,
   "id": "e210ddbc-4a19-4ce7-8060-d458b2b40a16",
   "metadata": {},
   "outputs": [],
   "source": [
    "import csv\n",
    "\n",
    "import matplotlib.pyplot as plt\n",
    "import pandas as pd\n",
    "import seaborn as sns\n",
    "import torch\n",
    "import torch.nn as nn\n",
    "from models.mlp_model_reg_v3 import MLPReg\n",
    "from sklearn.metrics import accuracy_score\n",
    "from training_testing.reg_testing_v3 import plot_decision_boundary\n",
    "from training_testing.reg_training_v3 import perform_hyperparameter_search, train\n",
    "from utilities import load_data"
   ]
  },
  {
   "cell_type": "markdown",
   "id": "dc2663f9-237a-4236-8904-70ac8bbcffee",
   "metadata": {},
   "source": [
    "## Loading the dataset"
   ]
  },
  {
   "cell_type": "code",
   "execution_count": null,
   "id": "29fa1cae-b23f-4f50-bb54-4ece43cb4529",
   "metadata": {},
   "outputs": [],
   "source": [
    "X_train, y_train = load_data(\"data/center_surround_train.csv\")\n",
    "X_valid, y_valid = load_data(\"data/center_surround_valid.csv\")\n",
    "X_test, y_test = load_data(\"data/center_surround_test.csv\")\n",
    "\n",
    "y_train = y_train.reshape(-1, 1)\n",
    "y_valid = y_valid.reshape(-1, 1)\n",
    "y_test = y_test.reshape(-1, 1)\n",
    "\n",
    "X_train_tensor = torch.from_numpy(X_train).float()\n",
    "y_train_tensor = torch.from_numpy(y_train).float()\n",
    "X_valid_tensor = torch.from_numpy(X_valid).float()\n",
    "y_valid_tensor = torch.from_numpy(y_valid).float()\n",
    "X_test_tensor = torch.from_numpy(X_test).float()\n",
    "y_test_tensor = torch.from_numpy(y_test).float()"
   ]
  },
  {
   "cell_type": "code",
   "execution_count": null,
   "id": "6ad739e9-18c2-48aa-97ca-642228e8967b",
   "metadata": {},
   "outputs": [],
   "source": [
    "csv_filename = \"results/center_surround/reg_l2_hyperparameter_results.csv\"\n",
    "dataset = \"center_surround\""
   ]
  },
  {
   "cell_type": "markdown",
   "id": "64fd1ada-d7ae-4ac5-a59f-ddc51f5f5db8",
   "metadata": {},
   "source": [
    "## Searching for Hyperparameters"
   ]
  },
  {
   "cell_type": "code",
   "execution_count": null,
   "id": "0ba407db-b57b-479b-b514-549134837a18",
   "metadata": {},
   "outputs": [],
   "source": [
    "with open(csv_filename, mode=\"w\", newline=\"\") as file:\n",
    "    writer = csv.writer(file)\n",
    "    writer.writerow(\n",
    "        [\n",
    "            \"Hidden Layers 1\",\n",
    "            \"Hidden Layers 2\",\n",
    "            \"Batch Size\",\n",
    "            \"Weight Decay\",\n",
    "            \"Learning Rate\",\n",
    "            \"Epochs\",\n",
    "            \"Last Train Loss\",\n",
    "            \"Last Validation Loss\",\n",
    "            \"Last Train Accuracy\",\n",
    "            \"Last Validation Accuracy\",\n",
    "        ]\n",
    "    )"
   ]
  },
  {
   "cell_type": "code",
   "execution_count": null,
   "id": "127a3a11-4be6-45c9-a3b3-416d5259a3ee",
   "metadata": {},
   "outputs": [],
   "source": [
    "hidden_layer_sizes = [5, 10, 15]\n",
    "batch_sizes = [16, 32]\n",
    "learning_rates = [0.1, 0.13]\n",
    "epoch_values = [1500, 2000]\n",
    "weight_decay_rates = [1e-5, 1e-6]"
   ]
  },
  {
   "cell_type": "code",
   "execution_count": null,
   "id": "f6b885b6-5db1-437d-a8b5-018a1edc5a60",
   "metadata": {
    "scrolled": true
   },
   "outputs": [],
   "source": [
    "perform_hyperparameter_search(\n",
    "    hidden_layer_sizes,\n",
    "    batch_sizes,\n",
    "    learning_rates,\n",
    "    epoch_values,\n",
    "    weight_decay_rates,\n",
    "    X_train_tensor,\n",
    "    y_train_tensor,\n",
    "    X_valid_tensor,\n",
    "    y_valid_tensor,\n",
    "    csv_filename,\n",
    "    dataset,\n",
    ")"
   ]
  },
  {
   "cell_type": "markdown",
   "id": "956a9319-8750-4011-9321-cb4efe0dc179",
   "metadata": {},
   "source": [
    "## Results from Grid Search"
   ]
  },
  {
   "cell_type": "code",
   "execution_count": null,
   "id": "aa3897e0-f2f3-48aa-905b-45a429189b86",
   "metadata": {},
   "outputs": [],
   "source": [
    "center_surround_results_df = pd.read_csv(\n",
    "    f\"results/{dataset}/reg_l2_hyperparameter_results.csv\"\n",
    ")"
   ]
  },
  {
   "cell_type": "code",
   "execution_count": null,
   "id": "9a32243d-fb97-4338-a703-5bc7ab2ed059",
   "metadata": {},
   "outputs": [],
   "source": [
    "center_surround_results_df.sort_values(by=\"Last Validation Loss\", ascending=True).head(\n",
    "    10\n",
    ")"
   ]
  },
  {
   "cell_type": "code",
   "execution_count": null,
   "id": "39234d77-55f7-41ac-bc5d-8fd99a2e89f2",
   "metadata": {},
   "outputs": [],
   "source": [
    "lr = 0.1\n",
    "batch_size = 16\n",
    "dropout = 0.1\n",
    "hidden_size1 = 15\n",
    "hidden_size2 = 15\n",
    "epochs = 2000\n",
    "weight_decay = 0.000001"
   ]
  },
  {
   "cell_type": "code",
   "execution_count": null,
   "id": "107e6a79-ca41-41df-9b74-5dcbbed5b855",
   "metadata": {},
   "outputs": [],
   "source": [
    "model = MLPReg(\n",
    "    input_size=X_train_tensor.shape[1],\n",
    "    hidden_size1=hidden_size1,\n",
    "    hidden_size2=hidden_size2,\n",
    "    output_size=1,\n",
    ")"
   ]
  },
  {
   "cell_type": "code",
   "execution_count": null,
   "id": "adf6378a-e9ef-4367-a787-5becb65c0b84",
   "metadata": {},
   "outputs": [],
   "source": [
    "criterion = nn.MSELoss()\n",
    "optimizer = torch.optim.Adam(model.parameters(), lr=lr, weight_decay=weight_decay)"
   ]
  },
  {
   "cell_type": "code",
   "execution_count": null,
   "id": "10e504ca-adee-48d4-9064-3a4c00ceb402",
   "metadata": {
    "scrolled": true
   },
   "outputs": [],
   "source": [
    "_, _, _, _ = train(\n",
    "    model,\n",
    "    criterion,\n",
    "    optimizer,\n",
    "    X_train_tensor,\n",
    "    y_train_tensor,\n",
    "    X_valid_tensor,\n",
    "    y_valid_tensor,\n",
    "    epochs,\n",
    "    batch_size,\n",
    ")"
   ]
  },
  {
   "cell_type": "code",
   "execution_count": null,
   "id": "ee4fecc1-1898-4b2e-8008-282e5bccc077",
   "metadata": {},
   "outputs": [],
   "source": [
    "test_pred = model.predict(X_test_tensor)\n",
    "test_accuracy = accuracy_score(y_test_tensor.squeeze(), test_pred)\n",
    "\n",
    "print(f\"Test accuracy: {test_accuracy}\")"
   ]
  },
  {
   "cell_type": "markdown",
   "id": "76c6aa58-5b01-4df6-9a65-88757d3205f8",
   "metadata": {},
   "source": [
    "## Plotting Decision Boundary"
   ]
  },
  {
   "cell_type": "code",
   "execution_count": null,
   "id": "df31a198-0ec9-4c15-b15b-a4f594ec6b26",
   "metadata": {},
   "outputs": [],
   "source": [
    "plot_decision_boundary(model, X_test, y_test, test_pred, dataset)"
   ]
  },
  {
   "cell_type": "code",
   "execution_count": null,
   "id": "7e174bd1-85eb-4661-985a-52e2b7e8040a",
   "metadata": {},
   "outputs": [],
   "source": []
  }
 ],
 "metadata": {
  "kernelspec": {
   "display_name": "Python 3 (ipykernel)",
   "language": "python",
   "name": "python3"
  },
  "language_info": {
   "codemirror_mode": {
    "name": "ipython",
    "version": 3
   },
   "file_extension": ".py",
   "mimetype": "text/x-python",
   "name": "python",
   "nbconvert_exporter": "python",
   "pygments_lexer": "ipython3",
   "version": "3.12.1"
  }
 },
 "nbformat": 4,
 "nbformat_minor": 5
}
