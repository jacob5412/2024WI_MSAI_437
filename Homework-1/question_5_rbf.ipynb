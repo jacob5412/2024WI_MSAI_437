{
 "cells": [
  {
   "cell_type": "markdown",
   "id": "5e4b5d0d-7e4d-42e1-84fe-a8a9bfd6191c",
   "metadata": {},
   "source": [
    "# Q5: Learn Feature Maps"
   ]
  },
  {
   "cell_type": "code",
   "execution_count": null,
   "id": "6b9157b1-cf5b-4d4c-a812-2b9ebc8baf70",
   "metadata": {},
   "outputs": [],
   "source": [
    "import random\n",
    "import warnings\n",
    "\n",
    "warnings.filterwarnings(\"ignore\")\n",
    "random.seed(1234)"
   ]
  },
  {
   "cell_type": "code",
   "execution_count": null,
   "id": "76abe86d-e251-43cf-b0c7-f4fe18d51a4e",
   "metadata": {},
   "outputs": [],
   "source": [
    "import csv\n",
    "\n",
    "import pandas as pd\n",
    "import plotly.express as px\n",
    "from models.mlp_model import MLP\n",
    "from sklearn.kernel_approximation import RBFSampler\n",
    "from sklearn.metrics import accuracy_score\n",
    "from training_testing.rbf_testing import plot_decision_boundary\n",
    "from training_testing.rbf_training import perform_hyperparameter_search, train\n",
    "from utilities import load_data"
   ]
  },
  {
   "cell_type": "markdown",
   "id": "079693b0-46bd-4f36-b2b9-286f8909599f",
   "metadata": {},
   "source": [
    "## Loading Center Surround"
   ]
  },
  {
   "cell_type": "code",
   "execution_count": null,
   "id": "47c8996f-04c8-4a5e-8467-6af5197a63d5",
   "metadata": {},
   "outputs": [],
   "source": [
    "X_train, y_train = load_data(\"data/center_surround_train.csv\")\n",
    "X_valid, y_valid = load_data(\"data/center_surround_valid.csv\")\n",
    "X_test, y_test = load_data(\"data/center_surround_test.csv\")\n",
    "\n",
    "y_train = y_train.reshape(-1, 1)\n",
    "y_valid = y_valid.reshape(-1, 1)\n",
    "y_test = y_test.reshape(-1, 1)\n",
    "\n",
    "csv_filename = \"results/center_surround/rbf_hyperparameter_results.csv\"\n",
    "dataset = \"center_surround\""
   ]
  },
  {
   "cell_type": "markdown",
   "id": "438484bc-b641-42b1-8e61-411643818e3f",
   "metadata": {},
   "source": [
    "## Finding hyperparameters\n",
    "\n",
    "We're also transforming the data here and finding the optimal gamma. Note: Skip this if you do not want to search for hyperparameters."
   ]
  },
  {
   "cell_type": "code",
   "execution_count": null,
   "id": "7cbd07f8-f74d-4b08-a4f5-a4d76baf6d13",
   "metadata": {},
   "outputs": [],
   "source": [
    "hidden_layer_sizes = [15]\n",
    "batch_sizes = [16, 32, 64]\n",
    "learning_rates = [0.1, 0.13, 0.15]\n",
    "epoch_values = [1000, 1500, 2000]\n",
    "gamma_values = [0.01, 0.1, 1, 10]"
   ]
  },
  {
   "cell_type": "code",
   "execution_count": null,
   "id": "d80b06b1-1d97-48e0-8faf-133a46fc3166",
   "metadata": {},
   "outputs": [],
   "source": [
    "with open(csv_filename, mode=\"w\", newline=\"\") as file:\n",
    "    writer = csv.writer(file)\n",
    "    writer.writerow(\n",
    "        [\n",
    "            \"Gamma\",\n",
    "            \"Hidden Layers\",\n",
    "            \"Batch Size\",\n",
    "            \"Learning Rate\",\n",
    "            \"Epochs\",\n",
    "            \"Last Train Loss\",\n",
    "            \"Last Validation Loss\",\n",
    "            \"Last Train Accuracy\",\n",
    "            \"Last Validation Accuracy\",\n",
    "        ]\n",
    "    )"
   ]
  },
  {
   "cell_type": "code",
   "execution_count": null,
   "id": "4b879da4-152a-47e6-891c-5c1c814f8a48",
   "metadata": {
    "scrolled": true
   },
   "outputs": [],
   "source": [
    "perform_hyperparameter_search(\n",
    "    hidden_layer_sizes,\n",
    "    batch_sizes,\n",
    "    learning_rates,\n",
    "    epoch_values,\n",
    "    gamma_values,\n",
    "    X_train,\n",
    "    y_train,\n",
    "    X_valid,\n",
    "    y_valid,\n",
    "    csv_filename,\n",
    "    dataset,\n",
    ")"
   ]
  },
  {
   "cell_type": "markdown",
   "id": "4ae35e4a-2d78-45b3-ab62-2fa1b5fcff9c",
   "metadata": {},
   "source": [
    "### Results from Grid Search"
   ]
  },
  {
   "cell_type": "code",
   "execution_count": null,
   "id": "622968d6-3614-4124-a3d7-f5c467f8e6d6",
   "metadata": {},
   "outputs": [],
   "source": [
    "center_surround_results_df = pd.read_csv(\n",
    "    f\"results/{dataset}/rbf_hyperparameter_results.csv\"\n",
    ")"
   ]
  },
  {
   "cell_type": "code",
   "execution_count": null,
   "id": "f0a26992-2f4f-4064-ba65-c296a5f73772",
   "metadata": {},
   "outputs": [],
   "source": [
    "center_surround_results_df.sort_values(by=\"Last Validation Loss\", ascending=True).head(\n",
    "    10\n",
    ")"
   ]
  },
  {
   "cell_type": "markdown",
   "id": "b128148d-74a4-4144-b2e0-8ffb104b4965",
   "metadata": {},
   "source": [
    "### Visualizing New Features\n",
    "\n",
    "Using the best gamma:"
   ]
  },
  {
   "cell_type": "code",
   "execution_count": null,
   "id": "41bf6adb-7346-4e61-9aab-4621337efb8a",
   "metadata": {},
   "outputs": [],
   "source": [
    "rbf_sampler = RBFSampler(gamma=0.1, n_components=3, random_state=1234)\n",
    "X_train_transformed = rbf_sampler.fit_transform(X_train)"
   ]
  },
  {
   "cell_type": "code",
   "execution_count": null,
   "id": "fad7d33e-f925-48ec-acb7-658822db0d38",
   "metadata": {},
   "outputs": [],
   "source": [
    "df_train_transformed = pd.DataFrame(\n",
    "    X_train_transformed, columns=[\"Feature 1\", \"Feature 2\", \"Feature 3\"]\n",
    ")\n",
    "df_train_transformed[\"Label\"] = y_train\n",
    "df_train_transformed[\"Label\"] = df_train_transformed[\"Label\"].astype(int).astype(str)"
   ]
  },
  {
   "cell_type": "code",
   "execution_count": null,
   "id": "6fa611e3-9b9a-48bc-a3ff-84d4243464b5",
   "metadata": {},
   "outputs": [],
   "source": [
    "fig = px.scatter_3d(\n",
    "    df_train_transformed,\n",
    "    x=\"Feature 1\",\n",
    "    y=\"Feature 2\",\n",
    "    z=\"Feature 3\",\n",
    "    color=\"Label\",\n",
    "    color_discrete_map={\"0\": \"blue\", \"1\": \"red\"},\n",
    ")\n",
    "fig.update_layout(\n",
    "    title=\"3D Scatter Plot of X_train_transformed\",\n",
    "    margin=dict(l=0, r=0, b=0, t=0),\n",
    ")\n",
    "fig.show()"
   ]
  },
  {
   "cell_type": "markdown",
   "id": "14384673-d6fc-4d84-a0b4-1599e6424e59",
   "metadata": {},
   "source": [
    "## Testing various hyperparameters with their decision boundaries"
   ]
  },
  {
   "cell_type": "code",
   "execution_count": null,
   "id": "8113124b-5483-408b-b9ce-c84538a3dac6",
   "metadata": {},
   "outputs": [],
   "source": [
    "lr = 0.15\n",
    "batch_size = 16\n",
    "k = 15\n",
    "epochs = 1500\n",
    "gamma = 0.1"
   ]
  },
  {
   "cell_type": "code",
   "execution_count": null,
   "id": "fe3b0712-6d06-48ad-b9ab-880fc5b0cd52",
   "metadata": {},
   "outputs": [],
   "source": [
    "rbf_sampler = RBFSampler(gamma=gamma, n_components=3, random_state=1234)\n",
    "X_train_transformed = rbf_sampler.fit_transform(X_train)\n",
    "X_valid_transformed = rbf_sampler.transform(X_valid)\n",
    "X_test_transformed = rbf_sampler.transform(X_test)"
   ]
  },
  {
   "cell_type": "code",
   "execution_count": null,
   "id": "447f022b-9e4a-4fa9-9a62-5ac03e5ec15f",
   "metadata": {},
   "outputs": [],
   "source": [
    "model = MLP(input_size=X_train_transformed.shape[1], hidden_size=k)"
   ]
  },
  {
   "cell_type": "code",
   "execution_count": null,
   "id": "e483d199-c15d-4bce-b353-1e1c2f147764",
   "metadata": {},
   "outputs": [],
   "source": [
    "_, _, _, _ = train(\n",
    "    model,\n",
    "    X_train_transformed,\n",
    "    y_train,\n",
    "    X_valid_transformed,\n",
    "    y_valid,\n",
    "    lr=lr,\n",
    "    epochs=epochs,\n",
    "    batch_size=batch_size,\n",
    ")"
   ]
  },
  {
   "cell_type": "code",
   "execution_count": null,
   "id": "6af1edf4-40f9-43eb-8913-8809a6e40d54",
   "metadata": {
    "scrolled": true
   },
   "outputs": [],
   "source": [
    "test_pred = model.predict(X_test_transformed)\n",
    "test_accuracy = accuracy_score(y_test.squeeze(), test_pred)\n",
    "\n",
    "print(\n",
    "    f\"Test accuracy for k={k}, Batch={batch_size}, LR={lr}, Gamma={gamma}: {test_accuracy}\"\n",
    ")"
   ]
  },
  {
   "cell_type": "code",
   "execution_count": null,
   "id": "d6f5d83c-4893-4269-9f45-095a86cf11a9",
   "metadata": {},
   "outputs": [],
   "source": [
    "plot_decision_boundary(X_test_transformed, y_test, test_pred, dataset)"
   ]
  },
  {
   "cell_type": "code",
   "execution_count": null,
   "id": "42c925c9-f300-4cd1-b49e-4a4656445ddf",
   "metadata": {},
   "outputs": [],
   "source": []
  }
 ],
 "metadata": {
  "kernelspec": {
   "display_name": "Python 3 (ipykernel)",
   "language": "python",
   "name": "python3"
  },
  "language_info": {
   "codemirror_mode": {
    "name": "ipython",
    "version": 3
   },
   "file_extension": ".py",
   "mimetype": "text/x-python",
   "name": "python",
   "nbconvert_exporter": "python",
   "pygments_lexer": "ipython3",
   "version": "3.12.1"
  }
 },
 "nbformat": 4,
 "nbformat_minor": 5
}
