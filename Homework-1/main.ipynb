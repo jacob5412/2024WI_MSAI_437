{
 "cells": [
  {
   "cell_type": "markdown",
   "id": "40590154-5d23-4b1a-8d11-056e6349b465",
   "metadata": {},
   "source": [
    "# Homework 1"
   ]
  },
  {
   "cell_type": "markdown",
   "id": "1b3100f8-f6da-4982-be4b-55c276e7d752",
   "metadata": {},
   "source": [
    "## Q1: Implementing and Training an MLP"
   ]
  },
  {
   "cell_type": "code",
   "execution_count": null,
   "id": "a83ecf4a-f6f1-41d9-863d-36af77f7d24d",
   "metadata": {},
   "outputs": [],
   "source": [
    "from models.mlp_model import MLP\n",
    "from training_testing.training import train\n",
    "from utilities import load_data"
   ]
  },
  {
   "cell_type": "code",
   "execution_count": null,
   "id": "f7a937ed-ae7d-46f5-b055-8a041c8de35d",
   "metadata": {},
   "outputs": [],
   "source": [
    "X, y = load_data(\"data/two_gaussians_train.csv\")\n",
    "model = MLP(input_size=X.shape[1], hidden_size=10)\n",
    "train(model, X, y, lr=0.01, epochs=100)"
   ]
  },
  {
   "cell_type": "code",
   "execution_count": null,
   "id": "f04906bc-91c2-415a-92f7-862b46ca321a",
   "metadata": {},
   "outputs": [],
   "source": []
  }
 ],
 "metadata": {
  "kernelspec": {
   "display_name": "Python 3 (ipykernel)",
   "language": "python",
   "name": "python3"
  },
  "language_info": {
   "codemirror_mode": {
    "name": "ipython",
    "version": 3
   },
   "file_extension": ".py",
   "mimetype": "text/x-python",
   "name": "python",
   "nbconvert_exporter": "python",
   "pygments_lexer": "ipython3",
   "version": "3.12.1"
  }
 },
 "nbformat": 4,
 "nbformat_minor": 5
}
