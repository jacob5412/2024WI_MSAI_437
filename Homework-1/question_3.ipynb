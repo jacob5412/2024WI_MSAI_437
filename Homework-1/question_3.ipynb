{
 "cells": [
  {
   "cell_type": "markdown",
   "id": "b6709020-8f85-4f73-a64a-cce41243d1c9",
   "metadata": {},
   "source": [
    "# Q3: Learned Nodes Decision Boundaries"
   ]
  },
  {
   "cell_type": "code",
   "execution_count": null,
   "id": "f477bedc-789a-4584-8637-00fd16ea1b62",
   "metadata": {},
   "outputs": [],
   "source": [
    "import random\n",
    "import warnings\n",
    "\n",
    "warnings.filterwarnings(\"ignore\")\n",
    "random.seed(1234)"
   ]
  },
  {
   "cell_type": "code",
   "execution_count": null,
   "id": "191e608b-93a5-4c82-8270-4068cb0d416d",
   "metadata": {},
   "outputs": [],
   "source": [
    "import matplotlib.pyplot as plt\n",
    "import numpy as np\n",
    "import pandas as pd\n",
    "import seaborn as sns\n",
    "from models.mlp_model import MLP\n",
    "from sklearn.metrics import accuracy_score\n",
    "from training_testing.mse_testing import plot_decision_boundary\n",
    "from training_testing.mse_training import train\n",
    "from utilities import load_data, sigmoid, tanh"
   ]
  },
  {
   "cell_type": "markdown",
   "id": "3f056168-a19d-4ea7-8d40-1eb7c891e440",
   "metadata": {},
   "source": [
    "## Loading Center Surround Data"
   ]
  },
  {
   "cell_type": "code",
   "execution_count": null,
   "id": "7aa95f76-bb08-4cda-998b-6214ed5532ed",
   "metadata": {},
   "outputs": [],
   "source": [
    "X_train, y_train = load_data(\"data/center_surround_train.csv\")\n",
    "X_valid, y_valid = load_data(\"data/center_surround_valid.csv\")\n",
    "X_test, y_test = load_data(\"data/center_surround_test.csv\")\n",
    "y_train = y_train.reshape(-1, 1)\n",
    "y_valid = y_valid.reshape(-1, 1)\n",
    "y_test = y_test.reshape(-1, 1)\n",
    "\n",
    "csv_filename = \"results/center_surround/mse_hyperparameter_results.csv\"\n",
    "dataset = \"center_surround\""
   ]
  },
  {
   "cell_type": "markdown",
   "id": "98d920ff-836f-42a0-ac11-ae250ca3c941",
   "metadata": {},
   "source": [
    "## Training Model"
   ]
  },
  {
   "cell_type": "code",
   "execution_count": null,
   "id": "5d4bf6b6-6a25-4cf7-a491-9d35203b02ce",
   "metadata": {},
   "outputs": [],
   "source": [
    "lr = 0.01\n",
    "batch_size = 16\n",
    "k = 15\n",
    "epochs = 150"
   ]
  },
  {
   "cell_type": "code",
   "execution_count": null,
   "id": "1538b94a-303f-46e8-8110-ae30f41ec887",
   "metadata": {},
   "outputs": [],
   "source": [
    "model = MLP(input_size=X_train.shape[1], hidden_size=k)"
   ]
  },
  {
   "cell_type": "code",
   "execution_count": null,
   "id": "8abe2815-f529-43c8-b1a4-85208073ef52",
   "metadata": {},
   "outputs": [],
   "source": [
    "_, _, _, _ = train(\n",
    "    model,\n",
    "    X_train,\n",
    "    y_train,\n",
    "    X_valid,\n",
    "    y_valid,\n",
    "    lr=lr,\n",
    "    epochs=epochs,\n",
    "    batch_size=batch_size,\n",
    ")"
   ]
  },
  {
   "cell_type": "markdown",
   "id": "a279a87e-a548-4451-9dfd-a6c66395e214",
   "metadata": {},
   "source": [
    "## Overall Decision Boundary"
   ]
  },
  {
   "cell_type": "code",
   "execution_count": null,
   "id": "71d708a3-59b7-4db9-b242-bb40eb110a8c",
   "metadata": {},
   "outputs": [],
   "source": [
    "test_pred = model.predict(X_test)\n",
    "test_accuracy = accuracy_score(y_test.squeeze(), test_pred)\n",
    "\n",
    "print(f\"Test accuracy for k={k}, Batch={batch_size}, LR={lr}: {test_accuracy}\")"
   ]
  },
  {
   "cell_type": "code",
   "execution_count": null,
   "id": "39371d31-f24e-453e-9122-79e552a7119d",
   "metadata": {},
   "outputs": [],
   "source": [
    "plot_decision_boundary(model, X_test, y_test, test_pred, dataset)"
   ]
  },
  {
   "cell_type": "markdown",
   "id": "6614fc58-b50c-441e-bc7a-6f2f541e2672",
   "metadata": {},
   "source": [
    "## Layer-wise Decision Boundary"
   ]
  },
  {
   "cell_type": "code",
   "execution_count": null,
   "id": "e3cc38a0-6383-4896-86a1-c429832f2d54",
   "metadata": {},
   "outputs": [],
   "source": [
    "def predict_hidden_layers(X, W1, W2):\n",
    "    X_bias = np.insert(X, 0, 1, axis=1)\n",
    "    Z1 = np.dot(X_bias, W1)\n",
    "    A1 = tanh(Z1)\n",
    "    A1_bias = np.insert(A1, 0, 1, axis=1)\n",
    "    Z2 = A1_bias * W2.reshape(1, -1)\n",
    "    output = sigmoid(Z2)\n",
    "\n",
    "    predictions = (output > 0.5).astype(int)\n",
    "    return predictions"
   ]
  },
  {
   "cell_type": "code",
   "execution_count": null,
   "id": "ab28e902-837b-4504-90b9-c3257953963b",
   "metadata": {},
   "outputs": [],
   "source": [
    "def plot_decision_boundaries_for_hidden_layers(model, X, y, W1, W2, dataset):\n",
    "    hidden_layer_predictions = predict_hidden_layers(X, W1, W2)\n",
    "    num_nodes = hidden_layer_predictions.shape[1]\n",
    "\n",
    "    x_min, x_max = X[:, 0].min() - 1, X[:, 0].max() + 1\n",
    "    y_min, y_max = X[:, 1].min() - 1, X[:, 1].max() + 1\n",
    "    xx, yy = np.meshgrid(np.linspace(x_min, x_max, 100), np.linspace(y_min, y_max, 100))\n",
    "\n",
    "    df_test = pd.DataFrame(X, columns=[\"Feature 1\", \"Feature 2\"])\n",
    "    df_test[\"Label\"] = y.squeeze()\n",
    "    df_test[\"Label\"] = df_test[\"Label\"].astype(int)\n",
    "\n",
    "    for i in range(num_nodes):\n",
    "        plt.figure(figsize=(10, 6))\n",
    "\n",
    "        Z = predict_hidden_layers(np.c_[xx.ravel(), yy.ravel()], W1, W2)[:, i]\n",
    "        Z = Z.reshape(xx.shape)\n",
    "\n",
    "        plt.contourf(xx, yy, Z, alpha=0.8, cmap=\"RdBu_r\")\n",
    "        sns.scatterplot(\n",
    "            data=df_test,\n",
    "            x=\"Feature 1\",\n",
    "            y=\"Feature 2\",\n",
    "            hue=\"Label\",\n",
    "            palette=[\"blue\", \"red\"],\n",
    "        )\n",
    "\n",
    "        # Highlight incorrect predictions for the i-th node\n",
    "        incorrect_predictions = hidden_layer_predictions[:, i] != y.squeeze()\n",
    "        incorrect_points = df_test[incorrect_predictions]\n",
    "        plt.scatter(\n",
    "            incorrect_points[\"Feature 1\"],\n",
    "            incorrect_points[\"Feature 2\"],\n",
    "            facecolors=\"none\",\n",
    "            edgecolors=\"black\",\n",
    "            s=100,\n",
    "            label=\"Incorrectly Classified\",\n",
    "        )\n",
    "\n",
    "        plt.title(f\"Node {i+1} Decision Boundary\")\n",
    "        plt.xlabel(\"Feature 1\")\n",
    "        plt.ylabel(\"Feature 2\")\n",
    "        plt.legend(title=\"Legend\", loc=\"upper right\")\n",
    "        plt.savefig(f\"results/{dataset}/node_{i+1}_decision_boundary.png\")\n",
    "        plt.show()"
   ]
  },
  {
   "cell_type": "code",
   "execution_count": null,
   "id": "b8eba21e-8d72-4ddc-badd-21ff02a6eed3",
   "metadata": {},
   "outputs": [],
   "source": [
    "plot_decision_boundaries_for_hidden_layers(\n",
    "    model, X_test, y_test, model.W1, model.W2, dataset\n",
    ")"
   ]
  },
  {
   "cell_type": "code",
   "execution_count": null,
   "id": "d091ebff-8225-4e8e-8be4-d3584edc6594",
   "metadata": {},
   "outputs": [],
   "source": []
  }
 ],
 "metadata": {
  "kernelspec": {
   "display_name": "Python 3 (ipykernel)",
   "language": "python",
   "name": "python3"
  },
  "language_info": {
   "codemirror_mode": {
    "name": "ipython",
    "version": 3
   },
   "file_extension": ".py",
   "mimetype": "text/x-python",
   "name": "python",
   "nbconvert_exporter": "python",
   "pygments_lexer": "ipython3",
   "version": "3.12.1"
  }
 },
 "nbformat": 4,
 "nbformat_minor": 5
}
