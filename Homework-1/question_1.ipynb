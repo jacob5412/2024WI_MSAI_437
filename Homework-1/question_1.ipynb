{
 "cells": [
  {
   "cell_type": "markdown",
   "id": "1b3100f8-f6da-4982-be4b-55c276e7d752",
   "metadata": {},
   "source": [
    "# Q1: Implementing and Training an MLP (Binary Cross Entropy - BCE)"
   ]
  },
  {
   "cell_type": "code",
   "execution_count": null,
   "id": "a75d71f2-0233-4200-b50b-3a81633b9c38",
   "metadata": {},
   "outputs": [],
   "source": [
    "import random\n",
    "import warnings\n",
    "\n",
    "warnings.filterwarnings(\"ignore\")\n",
    "random.seed(1234)"
   ]
  },
  {
   "cell_type": "code",
   "execution_count": null,
   "id": "a83ecf4a-f6f1-41d9-863d-36af77f7d24d",
   "metadata": {
    "scrolled": true
   },
   "outputs": [],
   "source": [
    "import csv\n",
    "\n",
    "import pandas as pd\n",
    "from models.mlp_model import MLP\n",
    "from sklearn.metrics import accuracy_score\n",
    "from training_testing.cross_entropy_testing import plot_decision_boundary\n",
    "from training_testing.cross_entropy_training import perform_hyperparameter_search, train\n",
    "from utilities import load_data"
   ]
  },
  {
   "cell_type": "markdown",
   "id": "035a4bde-7a3d-4ab7-96e1-8480bd0c66dc",
   "metadata": {},
   "source": [
    "## Two Gaussians"
   ]
  },
  {
   "cell_type": "code",
   "execution_count": null,
   "id": "b9092a86-e341-4f33-947c-aee872e2d8be",
   "metadata": {},
   "outputs": [],
   "source": [
    "X_train, y_train = load_data(\"data/two_gaussians_train.csv\")\n",
    "X_valid, y_valid = load_data(\"data/two_gaussians_valid.csv\")\n",
    "X_test, y_test = load_data(\"data/two_gaussians_test.csv\")\n",
    "y_train = y_train.reshape(-1, 1)\n",
    "y_valid = y_valid.reshape(-1, 1)\n",
    "y_test = y_test.reshape(-1, 1)\n",
    "\n",
    "csv_filename = \"results/two_gaussians/cross_entropy_hyperparameter_results.csv\"\n",
    "dataset = \"two_gaussians\""
   ]
  },
  {
   "cell_type": "markdown",
   "id": "94863d1d-067c-44c0-b329-7e68327944c4",
   "metadata": {},
   "source": [
    "### Hyperparameter Search"
   ]
  },
  {
   "cell_type": "code",
   "execution_count": null,
   "id": "b3769a45-25d3-4821-95c1-fd55d55bcb99",
   "metadata": {},
   "outputs": [],
   "source": [
    "hidden_layer_sizes = [5, 10, 15, 20, 25, 30]\n",
    "batch_sizes = [16, 32, 64]\n",
    "learning_rates = [0.01, 0.1, 0.13]\n",
    "epoch_values = [150, 300, 400]"
   ]
  },
  {
   "cell_type": "code",
   "execution_count": null,
   "id": "6f5c2ac1-375c-4933-ba4e-db3e7dcf0126",
   "metadata": {},
   "outputs": [],
   "source": [
    "with open(csv_filename, mode=\"w\", newline=\"\") as file:\n",
    "    writer = csv.writer(file)\n",
    "    writer.writerow(\n",
    "        [\n",
    "            \"Hidden Layers\",\n",
    "            \"Batch Size\",\n",
    "            \"Learning Rate\",\n",
    "            \"Epochs\",\n",
    "            \"Last Train Loss\",\n",
    "            \"Last Validation Loss\",\n",
    "            \"Last Train Accuracy\",\n",
    "            \"Last Validation Accuracy\",\n",
    "        ]\n",
    "    )"
   ]
  },
  {
   "cell_type": "code",
   "execution_count": null,
   "id": "00fe41d2-2db5-458a-ade8-58311973388d",
   "metadata": {
    "scrolled": true
   },
   "outputs": [],
   "source": [
    "perform_hyperparameter_search(\n",
    "    hidden_layer_sizes,\n",
    "    batch_sizes,\n",
    "    learning_rates,\n",
    "    epoch_values,\n",
    "    X_train,\n",
    "    y_train,\n",
    "    X_valid,\n",
    "    y_valid,\n",
    "    csv_filename,\n",
    "    dataset,\n",
    ")"
   ]
  },
  {
   "cell_type": "markdown",
   "id": "a9732e32-1b21-48c9-9867-77b49e61266f",
   "metadata": {},
   "source": [
    "### Testing"
   ]
  },
  {
   "cell_type": "code",
   "execution_count": null,
   "id": "75ccd7c4-f213-4f27-b59c-6447cf2f998b",
   "metadata": {},
   "outputs": [],
   "source": [
    "gaussian_results_df = pd.read_csv(\n",
    "    f\"results/{dataset}/cross_entropy_hyperparameter_results.csv\"\n",
    ")"
   ]
  },
  {
   "cell_type": "code",
   "execution_count": null,
   "id": "01d87d69-231a-4924-98c4-4d4650584d67",
   "metadata": {},
   "outputs": [],
   "source": [
    "gaussian_results_df.sort_values(by=\"Last Validation Loss\", ascending=True).head(10)"
   ]
  },
  {
   "cell_type": "code",
   "execution_count": null,
   "id": "570e93a9-2a5a-4b42-8e9b-9d8c812feb3b",
   "metadata": {},
   "outputs": [],
   "source": [
    "lr = 0.13\n",
    "batch_size = 16\n",
    "k = 15\n",
    "epochs = 150"
   ]
  },
  {
   "cell_type": "code",
   "execution_count": null,
   "id": "e0a08766-a323-4268-af9f-5872d6227bc7",
   "metadata": {},
   "outputs": [],
   "source": [
    "model = MLP(input_size=X_train.shape[1], hidden_size=k)"
   ]
  },
  {
   "cell_type": "code",
   "execution_count": null,
   "id": "f538f4ff-cae0-4ebd-a624-8b5eb4ca3dcd",
   "metadata": {},
   "outputs": [],
   "source": [
    "_, _, _, _ = train(\n",
    "    model,\n",
    "    X_train,\n",
    "    y_train,\n",
    "    X_valid,\n",
    "    y_valid,\n",
    "    lr=lr,\n",
    "    epochs=epochs,\n",
    "    batch_size=batch_size,\n",
    ")"
   ]
  },
  {
   "cell_type": "code",
   "execution_count": null,
   "id": "c43c12f0-fb83-42fd-85ce-ad6f8b9cbada",
   "metadata": {},
   "outputs": [],
   "source": [
    "test_pred = model.predict(X_test)\n",
    "test_accuracy = accuracy_score(y_test.squeeze(), test_pred)\n",
    "\n",
    "print(f\"Test accuracy for k={k}, Batch={batch_size}, LR={lr}: {test_accuracy}\")"
   ]
  },
  {
   "cell_type": "markdown",
   "id": "3c671414-7ca9-47c4-aaac-a38606fd0946",
   "metadata": {},
   "source": [
    "### Visualizing Decision Boundary"
   ]
  },
  {
   "cell_type": "code",
   "execution_count": null,
   "id": "6768f6c5-e61c-47c8-8f9b-3e8cd4dd9e04",
   "metadata": {},
   "outputs": [],
   "source": [
    "plot_decision_boundary(model, X_test, y_test, test_pred, dataset)"
   ]
  },
  {
   "cell_type": "markdown",
   "id": "6456132b-6485-4175-9d39-86925e8e4667",
   "metadata": {},
   "source": [
    "## XOR"
   ]
  },
  {
   "cell_type": "code",
   "execution_count": null,
   "id": "1a955ef4-40a4-42e4-8a5f-53c15bf8e6c3",
   "metadata": {},
   "outputs": [],
   "source": [
    "X_train, y_train = load_data(\"data/xor_train.csv\")\n",
    "X_valid, y_valid = load_data(\"data/xor_valid.csv\")\n",
    "X_test, y_test = load_data(\"data/xor_test.csv\")\n",
    "y_train = y_train.reshape(-1, 1)\n",
    "y_valid = y_valid.reshape(-1, 1)\n",
    "y_test = y_test.reshape(-1, 1)\n",
    "\n",
    "csv_filename = \"results/xor/cross_entropy_hyperparameter_results.csv\"\n",
    "dataset = \"xor\""
   ]
  },
  {
   "cell_type": "markdown",
   "id": "ee5a6e6a-1645-4cb0-a6a5-73c0c543ebce",
   "metadata": {},
   "source": [
    "### Hyperparameter Search"
   ]
  },
  {
   "cell_type": "code",
   "execution_count": null,
   "id": "c811eb18-db69-4178-8b0a-8fbc2e91faef",
   "metadata": {},
   "outputs": [],
   "source": [
    "hidden_layer_sizes = [15, 20, 25, 30]\n",
    "batch_sizes = [32, 64, 128]\n",
    "learning_rates = [0.01, 0.1, 0.13]\n",
    "epoch_values = [300, 500, 1000]"
   ]
  },
  {
   "cell_type": "code",
   "execution_count": null,
   "id": "10248fa3-8934-431e-87ca-2eabbe286502",
   "metadata": {},
   "outputs": [],
   "source": [
    "with open(csv_filename, mode=\"w\", newline=\"\") as file:\n",
    "    writer = csv.writer(file)\n",
    "    writer.writerow(\n",
    "        [\n",
    "            \"Hidden Layers\",\n",
    "            \"Batch Size\",\n",
    "            \"Learning Rate\",\n",
    "            \"Epochs\",\n",
    "            \"Last Train Loss\",\n",
    "            \"Last Validation Loss\",\n",
    "            \"Last Train Accuracy\",\n",
    "            \"Last Validation Accuracy\",\n",
    "        ]\n",
    "    )"
   ]
  },
  {
   "cell_type": "code",
   "execution_count": null,
   "id": "b7a8e042-e1c7-480a-ad3e-30c323908616",
   "metadata": {
    "scrolled": true
   },
   "outputs": [],
   "source": [
    "perform_hyperparameter_search(\n",
    "    hidden_layer_sizes,\n",
    "    batch_sizes,\n",
    "    learning_rates,\n",
    "    epoch_values,\n",
    "    X_train,\n",
    "    y_train,\n",
    "    X_valid,\n",
    "    y_valid,\n",
    "    csv_filename,\n",
    "    dataset,\n",
    ")"
   ]
  },
  {
   "cell_type": "markdown",
   "id": "b243fd3b-76a6-4b91-a8fe-2a5764fc476d",
   "metadata": {},
   "source": [
    "### Testing"
   ]
  },
  {
   "cell_type": "code",
   "execution_count": null,
   "id": "8a39019f-2694-4c76-ba42-ffb22d1709a0",
   "metadata": {},
   "outputs": [],
   "source": [
    "xor_results_df = pd.read_csv(\n",
    "    f\"results/{dataset}/cross_entropy_hyperparameter_results.csv\"\n",
    ")"
   ]
  },
  {
   "cell_type": "code",
   "execution_count": null,
   "id": "750d4f27-966d-4ec1-81b5-7b1b1a89c6bf",
   "metadata": {},
   "outputs": [],
   "source": [
    "xor_results_df.sort_values(by=\"Last Validation Loss\", ascending=True).head(10)"
   ]
  },
  {
   "cell_type": "code",
   "execution_count": null,
   "id": "39234d77-55f7-41ac-bc5d-8fd99a2e89f2",
   "metadata": {},
   "outputs": [],
   "source": [
    "lr = 0.1\n",
    "batch_size = 64\n",
    "k = 30\n",
    "epochs = 300"
   ]
  },
  {
   "cell_type": "code",
   "execution_count": null,
   "id": "7f5d2a94-9e36-4603-901e-56ffc97ca2fd",
   "metadata": {},
   "outputs": [],
   "source": [
    "model = MLP(input_size=X_train.shape[1], hidden_size=k)"
   ]
  },
  {
   "cell_type": "code",
   "execution_count": null,
   "id": "10e504ca-adee-48d4-9064-3a4c00ceb402",
   "metadata": {},
   "outputs": [],
   "source": [
    "_, _, _, _ = train(\n",
    "    model,\n",
    "    X_train,\n",
    "    y_train,\n",
    "    X_valid,\n",
    "    y_valid,\n",
    "    lr=lr,\n",
    "    epochs=epochs,\n",
    "    batch_size=batch_size,\n",
    ")"
   ]
  },
  {
   "cell_type": "code",
   "execution_count": null,
   "id": "ee4fecc1-1898-4b2e-8008-282e5bccc077",
   "metadata": {},
   "outputs": [],
   "source": [
    "test_pred = model.predict(X_test)\n",
    "test_accuracy = accuracy_score(y_test.squeeze(), test_pred)\n",
    "\n",
    "print(f\"Test accuracy for k={k}, Batch={batch_size}, LR={lr}: {test_accuracy}\")"
   ]
  },
  {
   "cell_type": "markdown",
   "id": "543fed90-23c1-4255-83d9-445763f69baa",
   "metadata": {},
   "source": [
    "### Visualizing Decision Boundary"
   ]
  },
  {
   "cell_type": "code",
   "execution_count": null,
   "id": "3bffbf42-d96e-40a6-8583-de85b5e34bcb",
   "metadata": {},
   "outputs": [],
   "source": [
    "plot_decision_boundary(model, X_test, y_test, test_pred, dataset)"
   ]
  },
  {
   "cell_type": "markdown",
   "id": "6d0b6e80-7f22-41a0-8b4e-f701f9c1a123",
   "metadata": {},
   "source": [
    "## Spiral"
   ]
  },
  {
   "cell_type": "code",
   "execution_count": null,
   "id": "a8cc60f7-f6d0-4acb-b703-f00816566f03",
   "metadata": {},
   "outputs": [],
   "source": [
    "X_train, y_train = load_data(\"data/spiral_train.csv\")\n",
    "X_valid, y_valid = load_data(\"data/spiral_valid.csv\")\n",
    "X_test, y_test = load_data(\"data/spiral_test.csv\")\n",
    "y_train = y_train.reshape(-1, 1)\n",
    "y_valid = y_valid.reshape(-1, 1)\n",
    "y_test = y_test.reshape(-1, 1)\n",
    "\n",
    "csv_filename = \"results/spiral/cross_entropy_hyperparameter_results.csv\"\n",
    "dataset = \"spiral\""
   ]
  },
  {
   "cell_type": "markdown",
   "id": "a0087e6a-784e-49a0-af9b-59bb51a2b392",
   "metadata": {},
   "source": [
    "### Hyperparameter Search"
   ]
  },
  {
   "cell_type": "code",
   "execution_count": null,
   "id": "b9b3ec5a-a854-4ff8-8c98-d1f8c105d8f7",
   "metadata": {},
   "outputs": [],
   "source": [
    "hidden_layer_sizes = [5, 10, 15, 20, 25, 30]\n",
    "batch_sizes = [16, 32, 64]\n",
    "learning_rates = [0.01, 0.1, 0.13]\n",
    "epoch_values = [150, 400, 1000]"
   ]
  },
  {
   "cell_type": "code",
   "execution_count": null,
   "id": "3a88e361-9651-4171-8877-422966cd3d64",
   "metadata": {},
   "outputs": [],
   "source": [
    "with open(csv_filename, mode=\"w\", newline=\"\") as file:\n",
    "    writer = csv.writer(file)\n",
    "    writer.writerow(\n",
    "        [\n",
    "            \"Hidden Layers\",\n",
    "            \"Batch Size\",\n",
    "            \"Learning Rate\",\n",
    "            \"Epochs\",\n",
    "            \"Last Train Loss\",\n",
    "            \"Last Validation Loss\",\n",
    "            \"Last Train Accuracy\",\n",
    "            \"Last Validation Accuracy\",\n",
    "        ]\n",
    "    )"
   ]
  },
  {
   "cell_type": "code",
   "execution_count": null,
   "id": "f4777867-3089-4bf3-861b-ce5746025eef",
   "metadata": {
    "scrolled": true
   },
   "outputs": [],
   "source": [
    "perform_hyperparameter_search(\n",
    "    hidden_layer_sizes,\n",
    "    batch_sizes,\n",
    "    learning_rates,\n",
    "    epoch_values,\n",
    "    X_train,\n",
    "    y_train,\n",
    "    X_valid,\n",
    "    y_valid,\n",
    "    csv_filename,\n",
    "    dataset,\n",
    ")"
   ]
  },
  {
   "cell_type": "markdown",
   "id": "544bea96-4e6d-460e-89be-e7ecc0899972",
   "metadata": {},
   "source": [
    "### Testing"
   ]
  },
  {
   "cell_type": "code",
   "execution_count": null,
   "id": "3030ac80-02a6-4708-b3b5-a3bab40c8606",
   "metadata": {},
   "outputs": [],
   "source": [
    "spiral_results_df = pd.read_csv(\n",
    "    f\"results/{dataset}/cross_entropy_hyperparameter_results.csv\"\n",
    ")"
   ]
  },
  {
   "cell_type": "code",
   "execution_count": null,
   "id": "f2118487-155a-443e-b436-a449d18566aa",
   "metadata": {},
   "outputs": [],
   "source": [
    "spiral_results_df.sort_values(by=\"Last Validation Loss\", ascending=True).head(10)"
   ]
  },
  {
   "cell_type": "code",
   "execution_count": null,
   "id": "f8436263-3aea-4011-8ceb-eb9e6585280f",
   "metadata": {},
   "outputs": [],
   "source": [
    "lr = 0.01\n",
    "batch_size = 16\n",
    "k = 10\n",
    "epochs = 1000"
   ]
  },
  {
   "cell_type": "code",
   "execution_count": null,
   "id": "ff9346c3-94e6-4d16-9c10-7e800ca0506f",
   "metadata": {},
   "outputs": [],
   "source": [
    "model = MLP(input_size=X_train.shape[1], hidden_size=k)"
   ]
  },
  {
   "cell_type": "code",
   "execution_count": null,
   "id": "f314e92a-d35c-4a84-aae3-54f46f0830aa",
   "metadata": {},
   "outputs": [],
   "source": [
    "_, _, _, _ = train(\n",
    "    model,\n",
    "    X_train,\n",
    "    y_train,\n",
    "    X_valid,\n",
    "    y_valid,\n",
    "    lr=lr,\n",
    "    epochs=epochs,\n",
    "    batch_size=batch_size,\n",
    ")"
   ]
  },
  {
   "cell_type": "code",
   "execution_count": null,
   "id": "4aa1a6e2-1c5f-4885-889b-e583a80f7ac1",
   "metadata": {},
   "outputs": [],
   "source": [
    "test_pred = model.predict(X_test)\n",
    "test_accuracy = accuracy_score(y_test.squeeze(), test_pred)\n",
    "\n",
    "print(f\"Test accuracy for k={k}, Batch={batch_size}, LR={lr}: {test_accuracy}\")"
   ]
  },
  {
   "cell_type": "markdown",
   "id": "1374430a-5a77-4909-b169-7b8f574a4e6d",
   "metadata": {},
   "source": [
    "### Visualizing Decision Boundary"
   ]
  },
  {
   "cell_type": "code",
   "execution_count": null,
   "id": "82128574-caae-402b-8bde-b037a425f80d",
   "metadata": {},
   "outputs": [],
   "source": [
    "plot_decision_boundary(model, X_test, y_test, test_pred, dataset)"
   ]
  },
  {
   "cell_type": "markdown",
   "id": "6d43b673-74f2-4d25-9d84-c0eaaaae8227",
   "metadata": {},
   "source": [
    "## Center Surround"
   ]
  },
  {
   "cell_type": "code",
   "execution_count": null,
   "id": "bff94b1e-2ab6-401f-99bf-dbdcca0cd7ba",
   "metadata": {},
   "outputs": [],
   "source": [
    "X_train, y_train = load_data(\"data/center_surround_train.csv\")\n",
    "X_valid, y_valid = load_data(\"data/center_surround_valid.csv\")\n",
    "X_test, y_test = load_data(\"data/center_surround_test.csv\")\n",
    "y_train = y_train.reshape(-1, 1)\n",
    "y_valid = y_valid.reshape(-1, 1)\n",
    "y_test = y_test.reshape(-1, 1)\n",
    "\n",
    "csv_filename = \"results/center_surround/cross_entropy_hyperparameter_results.csv\"\n",
    "dataset = \"center_surround\""
   ]
  },
  {
   "cell_type": "markdown",
   "id": "dd01656b-0af3-4474-bd3d-a004c4ba7aae",
   "metadata": {},
   "source": [
    "### Hyperparameter Search"
   ]
  },
  {
   "cell_type": "code",
   "execution_count": null,
   "id": "71ba44e6-8dae-4e46-81ee-837477e55c98",
   "metadata": {},
   "outputs": [],
   "source": [
    "hidden_layer_sizes = [5, 15, 25, 30]\n",
    "batch_sizes = [32, 64]\n",
    "learning_rates = [0.001, 0.01, 0.1]\n",
    "epoch_values = [500, 1000, 1500]"
   ]
  },
  {
   "cell_type": "code",
   "execution_count": null,
   "id": "c95bfeb4-5d84-4fc9-a634-9fec1956234f",
   "metadata": {},
   "outputs": [],
   "source": [
    "with open(csv_filename, mode=\"w\", newline=\"\") as file:\n",
    "    writer = csv.writer(file)\n",
    "    writer.writerow(\n",
    "        [\n",
    "            \"Hidden Layers\",\n",
    "            \"Batch Size\",\n",
    "            \"Learning Rate\",\n",
    "            \"Epochs\",\n",
    "            \"Last Train Loss\",\n",
    "            \"Last Validation Loss\",\n",
    "            \"Last Train Accuracy\",\n",
    "            \"Last Validation Accuracy\",\n",
    "        ]\n",
    "    )"
   ]
  },
  {
   "cell_type": "code",
   "execution_count": null,
   "id": "2d599556-4fb7-407b-b782-223fb4aaff36",
   "metadata": {
    "scrolled": true
   },
   "outputs": [],
   "source": [
    "perform_hyperparameter_search(\n",
    "    hidden_layer_sizes,\n",
    "    batch_sizes,\n",
    "    learning_rates,\n",
    "    epoch_values,\n",
    "    X_train,\n",
    "    y_train,\n",
    "    X_valid,\n",
    "    y_valid,\n",
    "    csv_filename,\n",
    "    dataset,\n",
    ")"
   ]
  },
  {
   "cell_type": "markdown",
   "id": "6732fd88-10a6-4287-8a63-5fd3dcf7913c",
   "metadata": {},
   "source": [
    "### Testing"
   ]
  },
  {
   "cell_type": "code",
   "execution_count": null,
   "id": "68b8e77c-1c96-4d8f-84dd-d2bf3838491d",
   "metadata": {},
   "outputs": [],
   "source": [
    "center_surround_results_df = pd.read_csv(\n",
    "    f\"results/{dataset}/cross_entropy_hyperparameter_results.csv\"\n",
    ")"
   ]
  },
  {
   "cell_type": "code",
   "execution_count": null,
   "id": "6ac37831-8e91-443c-939f-dfde17ca050e",
   "metadata": {},
   "outputs": [],
   "source": [
    "center_surround_results_df.sort_values(by=\"Last Validation Loss\", ascending=True).head(\n",
    "    10\n",
    ")"
   ]
  },
  {
   "cell_type": "code",
   "execution_count": null,
   "id": "9ca07a64-06c9-415d-94dd-1549e5e7d73c",
   "metadata": {},
   "outputs": [],
   "source": [
    "lr = 0.01\n",
    "batch_size = 64\n",
    "k = 15\n",
    "epochs = 500"
   ]
  },
  {
   "cell_type": "code",
   "execution_count": null,
   "id": "c9e6631e-532e-4c49-8c8b-483a4c3e1b0d",
   "metadata": {},
   "outputs": [],
   "source": [
    "model = MLP(input_size=X_train.shape[1], hidden_size=k)"
   ]
  },
  {
   "cell_type": "code",
   "execution_count": null,
   "id": "fd90a48e-aa81-45de-95bf-6d5c76325ca6",
   "metadata": {},
   "outputs": [],
   "source": [
    "_, _, _, _ = train(\n",
    "    model,\n",
    "    X_train,\n",
    "    y_train,\n",
    "    X_valid,\n",
    "    y_valid,\n",
    "    lr=lr,\n",
    "    epochs=epochs,\n",
    "    batch_size=batch_size,\n",
    ")"
   ]
  },
  {
   "cell_type": "code",
   "execution_count": null,
   "id": "55aaefca-67ae-46b9-ace6-c40a0934c72b",
   "metadata": {},
   "outputs": [],
   "source": [
    "test_pred = model.predict(X_test)\n",
    "test_accuracy = accuracy_score(y_test.squeeze(), test_pred)\n",
    "\n",
    "print(f\"Test accuracy for k={k}, Batch={batch_size}, LR={lr}: {test_accuracy}\")"
   ]
  },
  {
   "cell_type": "markdown",
   "id": "8a161900-f203-4932-90d8-0c6512739b17",
   "metadata": {},
   "source": [
    "### Visualizing Decision Boundary"
   ]
  },
  {
   "cell_type": "code",
   "execution_count": null,
   "id": "550cd2a0-2cc3-4fb8-b645-17ccf23b6716",
   "metadata": {},
   "outputs": [],
   "source": [
    "plot_decision_boundary(model, X_test, y_test, test_pred, dataset)"
   ]
  },
  {
   "cell_type": "code",
   "execution_count": null,
   "id": "0f4add7e-14b0-47dd-bb57-341a81b42c74",
   "metadata": {},
   "outputs": [],
   "source": []
  }
 ],
 "metadata": {
  "kernelspec": {
   "display_name": "Python 3 (ipykernel)",
   "language": "python",
   "name": "python3"
  },
  "language_info": {
   "codemirror_mode": {
    "name": "ipython",
    "version": 3
   },
   "file_extension": ".py",
   "mimetype": "text/x-python",
   "name": "python",
   "nbconvert_exporter": "python",
   "pygments_lexer": "ipython3",
   "version": "3.12.1"
  }
 },
 "nbformat": 4,
 "nbformat_minor": 5
}
