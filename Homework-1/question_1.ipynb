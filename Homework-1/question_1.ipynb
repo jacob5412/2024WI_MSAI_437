{
 "cells": [
  {
   "cell_type": "markdown",
   "id": "1b3100f8-f6da-4982-be4b-55c276e7d752",
   "metadata": {},
   "source": [
    "# Q1: Implementing and Training an MLP"
   ]
  },
  {
   "cell_type": "code",
   "execution_count": null,
   "id": "a83ecf4a-f6f1-41d9-863d-36af77f7d24d",
   "metadata": {
    "scrolled": true
   },
   "outputs": [],
   "source": [
    "import csv\n",
    "\n",
    "import matplotlib.pyplot as plt\n",
    "import numpy as np\n",
    "import pandas as pd\n",
    "import seaborn as sns\n",
    "from sklearn.metrics import accuracy_score\n",
    "\n",
    "from models.mlp_model import MLP\n",
    "from training_testing.training import perform_hyperparameter_search, train\n",
    "from utilities import load_data"
   ]
  },
  {
   "cell_type": "markdown",
   "id": "2cbf8c48-57b7-4dcb-be6f-cb8d970be9e2",
   "metadata": {},
   "source": [
    "## Additional Utilities"
   ]
  },
  {
   "cell_type": "markdown",
   "id": "035a4bde-7a3d-4ab7-96e1-8480bd0c66dc",
   "metadata": {},
   "source": [
    "## Two Gaussians"
   ]
  },
  {
   "cell_type": "code",
   "execution_count": null,
   "id": "b9092a86-e341-4f33-947c-aee872e2d8be",
   "metadata": {},
   "outputs": [],
   "source": [
    "X_train, y_train = load_data(\"data/two_gaussians_train.csv\")\n",
    "X_valid, y_valid = load_data(\"data/two_gaussians_valid.csv\")\n",
    "X_test, y_test = load_data(\"data/two_gaussians_test.csv\")\n",
    "y_train = y_train.reshape(-1, 1)\n",
    "y_valid = y_valid.reshape(-1, 1)\n",
    "y_test = y_test.reshape(-1, 1)\n",
    "\n",
    "csv_filename = \"results/two_gaussians/hyperparameter_results.csv\""
   ]
  },
  {
   "cell_type": "markdown",
   "id": "94863d1d-067c-44c0-b329-7e68327944c4",
   "metadata": {},
   "source": [
    "### Hyperparameter Search"
   ]
  },
  {
   "cell_type": "code",
   "execution_count": null,
   "id": "b3769a45-25d3-4821-95c1-fd55d55bcb99",
   "metadata": {},
   "outputs": [],
   "source": [
    "hidden_layer_sizes = [5, 10, 15, 20, 25, 30]\n",
    "batch_sizes = [16, 32, 64]\n",
    "learning_rates = [0.001, 0.01, 0.1]\n",
    "epoch_values = [100, 150, 400]"
   ]
  },
  {
   "cell_type": "code",
   "execution_count": null,
   "id": "6f5c2ac1-375c-4933-ba4e-db3e7dcf0126",
   "metadata": {},
   "outputs": [],
   "source": [
    "with open(csv_filename, mode=\"w\", newline=\"\") as file:\n",
    "    writer = csv.writer(file)\n",
    "    writer.writerow(\n",
    "        [\n",
    "            \"Hidden Layers\",\n",
    "            \"Batch Size\",\n",
    "            \"Learning Rate\",\n",
    "            \"Epochs\",\n",
    "            \"Last Train Loss\",\n",
    "            \"Last Validation Loss\",\n",
    "            \"Last Train Accuracy\",\n",
    "            \"Last Validation Accuracy\",\n",
    "        ]\n",
    "    )"
   ]
  },
  {
   "cell_type": "code",
   "execution_count": null,
   "id": "00fe41d2-2db5-458a-ade8-58311973388d",
   "metadata": {
    "scrolled": true
   },
   "outputs": [],
   "source": [
    "perform_hyperparameter_search(\n",
    "    hidden_layer_sizes,\n",
    "    batch_sizes,\n",
    "    learning_rates,\n",
    "    epoch_values,\n",
    "    X_train,\n",
    "    y_train,\n",
    "    X_valid,\n",
    "    y_valid,\n",
    "    csv_filename,\n",
    "    \"two_gaussians\",\n",
    ")"
   ]
  },
  {
   "cell_type": "markdown",
   "id": "a9732e32-1b21-48c9-9867-77b49e61266f",
   "metadata": {},
   "source": [
    "### Testing"
   ]
  },
  {
   "cell_type": "code",
   "execution_count": null,
   "id": "75ccd7c4-f213-4f27-b59c-6447cf2f998b",
   "metadata": {},
   "outputs": [],
   "source": [
    "gaussian_results_df = pd.read_csv(\"results/two_gaussians/hyperparameter_results.csv\")"
   ]
  },
  {
   "cell_type": "code",
   "execution_count": null,
   "id": "01d87d69-231a-4924-98c4-4d4650584d67",
   "metadata": {},
   "outputs": [],
   "source": [
    "gaussian_results_df.sort_values(by=\"Last Validation Loss\", ascending=True).head(10)"
   ]
  },
  {
   "cell_type": "code",
   "execution_count": null,
   "id": "570e93a9-2a5a-4b42-8e9b-9d8c812feb3b",
   "metadata": {},
   "outputs": [],
   "source": [
    "lr = 0.1\n",
    "batch_size = 32\n",
    "k = 20\n",
    "epochs = 200"
   ]
  },
  {
   "cell_type": "code",
   "execution_count": null,
   "id": "e0a08766-a323-4268-af9f-5872d6227bc7",
   "metadata": {},
   "outputs": [],
   "source": [
    "model = MLP(input_size=X_train.shape[1], hidden_size=k)"
   ]
  },
  {
   "cell_type": "code",
   "execution_count": null,
   "id": "f538f4ff-cae0-4ebd-a624-8b5eb4ca3dcd",
   "metadata": {},
   "outputs": [],
   "source": [
    "train_losses, train_accuracies, val_losses, val_accuracies = train(\n",
    "    model,\n",
    "    X_train,\n",
    "    y_train,\n",
    "    X_valid,\n",
    "    y_valid,\n",
    "    lr=lr,\n",
    "    epochs=epochs,\n",
    "    batch_size=batch_size,\n",
    ")"
   ]
  },
  {
   "cell_type": "code",
   "execution_count": null,
   "id": "c43c12f0-fb83-42fd-85ce-ad6f8b9cbada",
   "metadata": {},
   "outputs": [],
   "source": [
    "test_pred = model.predict(X_test)\n",
    "test_accuracy = accuracy_score(y_test.squeeze(), test_pred)\n",
    "\n",
    "print(f\"Test accuracy for k={k}, Batch={batch_size}, LR={lr}: {test_accuracy}\")"
   ]
  },
  {
   "cell_type": "markdown",
   "id": "3c671414-7ca9-47c4-aaac-a38606fd0946",
   "metadata": {},
   "source": [
    "### Visualizing Decision Boundary"
   ]
  },
  {
   "cell_type": "code",
   "execution_count": null,
   "id": "bb86b8ba-12d6-48c8-8216-549ca69cbb91",
   "metadata": {},
   "outputs": [],
   "source": [
    "x_min, x_max = X_test[:, 0].min() - 1, X_test[:, 0].max() + 1\n",
    "y_min, y_max = X_test[:, 1].min() - 1, X_test[:, 1].max() + 1\n",
    "xx, yy = np.meshgrid(np.linspace(x_min, x_max, 100), np.linspace(y_min, y_max, 100))\n",
    "\n",
    "grid_points = np.c_[xx.ravel(), yy.ravel()]\n",
    "grid_predictions = model.predict(grid_points)\n",
    "grid_predictions = grid_predictions.reshape(xx.shape)"
   ]
  },
  {
   "cell_type": "code",
   "execution_count": null,
   "id": "5a98fc26-e983-45c1-b6b3-61a0b2b9cd2d",
   "metadata": {},
   "outputs": [],
   "source": [
    "df_test = pd.DataFrame(X_test, columns=[\"Feature 1\", \"Feature 2\"])\n",
    "df_test[\"Label\"] = y_test.squeeze()\n",
    "df_test[\"Label\"] = df_test[\"Label\"].astype(int)\n",
    "\n",
    "incorrect_predictions = test_pred != y_test.squeeze()"
   ]
  },
  {
   "cell_type": "code",
   "execution_count": null,
   "id": "489b5826-2849-466c-b1f3-86e84932bda0",
   "metadata": {},
   "outputs": [],
   "source": [
    "plt.figure(figsize=(9, 5), dpi=120)\n",
    "plt.contourf(xx, yy, grid_predictions, alpha=0.2, cmap=\"RdBu_r\")\n",
    "\n",
    "sns.scatterplot(\n",
    "    data=df_test, x=\"Feature 1\", y=\"Feature 2\", hue=\"Label\", palette=[\"blue\", \"red\"]\n",
    ")\n",
    "\n",
    "incorrect_points = df_test[incorrect_predictions]\n",
    "plt.scatter(\n",
    "    incorrect_points[\"Feature 1\"],\n",
    "    incorrect_points[\"Feature 2\"],\n",
    "    facecolors=\"none\",\n",
    "    edgecolors=\"black\",\n",
    "    s=100,\n",
    "    label=\"Incorrectly Classified\",\n",
    ")\n",
    "\n",
    "\n",
    "plt.title(\"Gaussian Data with Decision Boundary (Test Set)\")\n",
    "plt.legend(title=\"Legend\", loc=\"upper right\")\n",
    "plt.xlim(xx.min(), xx.max())\n",
    "plt.ylim(yy.min(), yy.max())\n",
    "plt.show()"
   ]
  },
  {
   "cell_type": "code",
   "execution_count": null,
   "id": "6768f6c5-e61c-47c8-8f9b-3e8cd4dd9e04",
   "metadata": {},
   "outputs": [],
   "source": []
  }
 ],
 "metadata": {
  "kernelspec": {
   "display_name": "Python 3 (ipykernel)",
   "language": "python",
   "name": "python3"
  },
  "language_info": {
   "codemirror_mode": {
    "name": "ipython",
    "version": 3
   },
   "file_extension": ".py",
   "mimetype": "text/x-python",
   "name": "python",
   "nbconvert_exporter": "python",
   "pygments_lexer": "ipython3",
   "version": "3.12.1"
  }
 },
 "nbformat": 4,
 "nbformat_minor": 5
}
